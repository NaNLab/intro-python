{
 "cells": [
  {
   "cell_type": "markdown",
   "metadata": {
    "colab_type": "text",
    "id": "as0gVP98W60-"
   },
   "source": [
    "# Atelier 1A"
   ]
  },
  {
   "cell_type": "markdown",
   "metadata": {
    "colab_type": "text",
    "id": "M0--ml1jByQV"
   },
   "source": [
    "**L'objectif ce matin est de rencontrer à travers trois activités les fonctionnalités suivantes en Python :**\n",
    "\n",
    "*   Les fonctions\n",
    "*   L'affectation des variables\n",
    "*   Les conditionnelles\n",
    "*   Les boucles `for` et `while`\n",
    "*   Tests ( ==, !=, <, >, <=, >=)\n",
    "*   Booléen (`True`, `False`)\n",
    "\n",
    "Et quelques fonctions utiles en mathématiques par l'appel eventuel de bibliothèques:\n",
    "\n",
    "*  La racine carrée, le logarithme,...\n",
    "*  Les fonctions aléatoires \n",
    "*  Reste dans la division euclidienne de a par b.\n",
    "\n",
    "Vous avez à gauche un plan pour naviguer plus facilement.\n",
    "\n",
    "L'environnement **Jupyter** sur lequel nous travaillons permet d'écrire du texte avec des maths en $\\LaTeX$ ou du code Python dans des cellules qui sont exécutées en cliquant sur la flèche $\\blacktriangleright$ ou par Ctrl+Entrée\n",
    "\n",
    "En cas de difficulté ou pour en savoir plus vous avez à disposition le notebook \"*Débuter avec Python.*\"\n",
    "\n",
    "\n",
    "---\n"
   ]
  },
  {
   "cell_type": "markdown",
   "metadata": {
    "colab_type": "text",
    "id": "5VfmP-m1SIjI"
   },
   "source": [
    "## Les viennoiseries \n",
    "*Issu d'une activité TraAM de l'académie de Rennes.* [Toutatice](http://www.toutatice.fr/portail/cms/_NXSITE_/site/sites/traam-2017-2018-l)\n",
    "\n",
    "Dans cette activité vous allez rencontrer les notions suivantes de Python:\n",
    "\n",
    "\n",
    "*   Les fonctions\n",
    "*   Les conditionnelles (Si... alors... sinon...)\n",
    "\n",
    "Une boulangerie propose à ses clients de passer leurs commandes du dimanche en ligne pour ainsi bénéficier de réductions intéressantes. Votre travail va consister à écrire un programme qui va établir le montant à payer par un client en fonction du nombre de croissants et de pains au chocolat qu’il souhaite commander et des réductions proposées.\n",
    "\n",
    "![Texte alternatif…](http://www.toutatice.fr/toutatice-portail-cms-nuxeo/binary/Boulangerie.png?type=ATTACHED_PICTURE&path=%2Fespace-educ%2Fpole-sciences%2Fmathemathiques%2Faam08-09%2Ftravaux-traam-2017-2018%2Fexperimentations%2Fles-viennoiseries%2Fles-viennoiseries&portalName=default&index=4&fileName=Boulangerie.png&t=1522355573)\n",
    "\n"
   ]
  },
  {
   "cell_type": "markdown",
   "metadata": {
    "colab_type": "text",
    "id": "CARgTeOp1d3m"
   },
   "source": [
    "### Première situation : Aucune réduction. \n",
    "La fonction facture1 qui permet de calculer le montant de la facture est écrite en Python ci-dessous. "
   ]
  },
  {
   "cell_type": "code",
   "execution_count": 0,
   "metadata": {
    "colab": {
     "autoexec": {
      "startup": false,
      "wait_interval": 0
     }
    },
    "colab_type": "code",
    "id": "QVKd2amhS_PY"
   },
   "outputs": [],
   "source": [
    "def facture1(croissants,pains) :\n",
    "  return 0.8*croissants+0.9*pains"
   ]
  },
  {
   "cell_type": "code",
   "execution_count": 0,
   "metadata": {
    "colab": {
     "autoexec": {
      "startup": false,
      "wait_interval": 0
     }
    },
    "colab_type": "code",
    "id": "ACfB6yUpTE5a"
   },
   "outputs": [],
   "source": [
    "facture1(10,5)"
   ]
  },
  {
   "cell_type": "markdown",
   "metadata": {
    "colab_type": "text",
    "id": "jk-xn7BaTDS0"
   },
   "source": [
    "Combien devra-t-on payer pour 12 croissants et 7 pains ?"
   ]
  },
  {
   "cell_type": "markdown",
   "metadata": {
    "colab_type": "text",
    "id": "2gG26-uZuowU"
   },
   "source": [
    "\n",
    "\n",
    "---\n",
    "\n",
    "\n",
    "#### $\\bigstar$ Info Python  : \n",
    "Une fonction en Python est au premier abord un peu comme une fonction mathématique. Elle prend des arguments  (ou pas) qui sont des variables locales et renvoie (return) un résultat.\n",
    "\n",
    "Pour définir la fonction mathématique :\n",
    "> $f: x\\longmapsto x^2+3x-\\dfrac1x$ \n",
    "\n",
    "on entrera :\n"
   ]
  },
  {
   "cell_type": "code",
   "execution_count": 0,
   "metadata": {
    "colab": {
     "autoexec": {
      "startup": false,
      "wait_interval": 0
     }
    },
    "colab_type": "code",
    "id": "uK7_iYKQvwwz"
   },
   "outputs": [],
   "source": [
    "def f(x):\n",
    "  return(x**2+3*x-1/x)"
   ]
  },
  {
   "cell_type": "markdown",
   "metadata": {
    "colab_type": "text",
    "id": "PE7Sx_ziwLk9"
   },
   "source": [
    "\n",
    "\n",
    "---\n",
    "\n",
    "\n",
    "Il ne se passe rien, on a juste défini la fonction. On peut ensuite demander des images, comme en maths."
   ]
  },
  {
   "cell_type": "code",
   "execution_count": 0,
   "metadata": {
    "colab": {
     "autoexec": {
      "startup": false,
      "wait_interval": 0
     }
    },
    "colab_type": "code",
    "id": "XVkTOfYMwZTh"
   },
   "outputs": [],
   "source": [
    "f(0.25)"
   ]
  },
  {
   "cell_type": "code",
   "execution_count": 0,
   "metadata": {
    "colab": {
     "autoexec": {
      "startup": false,
      "wait_interval": 0
     }
    },
    "colab_type": "code",
    "id": "732iaP0nwdUs"
   },
   "outputs": [],
   "source": [
    "f(0)"
   ]
  },
  {
   "cell_type": "markdown",
   "metadata": {
    "colab_type": "text",
    "id": "QZUttjmkToug"
   },
   "source": [
    "### Deuxième situation :  tarif dégressif.\n",
    "Si le nombre total de croissants est supérieur ou égal à 10, chaque croissant est facturé 0,50 €. \n",
    "\n",
    "$\\bigtriangledown$ Compléter la fonction suivante (la ligne commentée avec des #) permettant de calculer le montant à payer. Tester avec divers nombres de croissants et pains."
   ]
  },
  {
   "cell_type": "code",
   "execution_count": 0,
   "metadata": {
    "colab": {
     "autoexec": {
      "startup": false,
      "wait_interval": 0
     }
    },
    "colab_type": "code",
    "id": "1Y08QZRuTyTq"
   },
   "outputs": [],
   "source": [
    "def facture2(croissants,pains):\n",
    "  if croissants >= 10 :\n",
    "    return ###\n",
    "  else :\n",
    "    return facture1(croissants,pains)"
   ]
  },
  {
   "cell_type": "code",
   "execution_count": 0,
   "metadata": {
    "colab": {
     "autoexec": {
      "startup": false,
      "wait_interval": 0
     }
    },
    "colab_type": "code",
    "id": "OK6VLsnNT6s0"
   },
   "outputs": [],
   "source": [
    "facture2(12,5)"
   ]
  },
  {
   "cell_type": "markdown",
   "metadata": {
    "colab_type": "text",
    "id": "96phX-r2yWIT"
   },
   "source": [
    "\n",
    "\n",
    "---\n",
    "\n",
    "\n",
    "#### $\\bigstar$ Info Python  : \n",
    "*  Notez la présence des  \"`:`\" en fin de ligne après `def`,  `if` et `else`. \n",
    "*  Ce  \"`:`\" suivi d'un retour chariot (entrée) applique une **indentation** qui n'est pas simplement cosmétique, elle délimite un bloc d'instructions à appliquer ensuite.\n",
    "* Le symbole `#` est utilisé pour marquer une ligne de commentaire dans le code. La ligne ainsi commentée n'est pas lue par Python.\n",
    "* Si on veut emboiter des successions de conditions on utilise la structure:  \n",
    "\n",
    "```\n",
    "if...:\n",
    "elif... :\n",
    "elif...:\n",
    "else... :\n",
    "\n",
    "```\n",
    "\n",
    "\n",
    "\n",
    "\n",
    "---\n",
    "\n"
   ]
  },
  {
   "cell_type": "markdown",
   "metadata": {
    "colab_type": "text",
    "id": "vQKLWb_DTbHc"
   },
   "source": [
    "### Troisième situation :  -20% si...\n",
    "On garde le système de facturation précédent mais on effectue aussi une remise de 20 % si la facture dépasse 8 € ou de 30% si elle dépasse 12€.\n",
    "\n",
    "$\\bigtriangledown$ Ecrire une fonction facture3 ci-dessous pour tenir compte de cette offre promotionnelle."
   ]
  },
  {
   "cell_type": "code",
   "execution_count": 0,
   "metadata": {
    "colab": {
     "autoexec": {
      "startup": false,
      "wait_interval": 0
     }
    },
    "colab_type": "code",
    "id": "-Yo8d5-6Tl8k"
   },
   "outputs": [],
   "source": [
    "def facture3(croissants,pains) :"
   ]
  },
  {
   "cell_type": "code",
   "execution_count": 0,
   "metadata": {
    "colab": {
     "autoexec": {
      "startup": false,
      "wait_interval": 0
     }
    },
    "colab_type": "code",
    "id": "8QOlRM6WWUi-"
   },
   "outputs": [],
   "source": [
    "facture3(12,5)"
   ]
  },
  {
   "cell_type": "markdown",
   "metadata": {
    "colab_type": "text",
    "id": "QQZ7lGdCTnhw"
   },
   "source": [
    "Quel achat coûte le moins cher : 9 croissants et 2 pains ou 12 croissants et 3 pains ? "
   ]
  },
  {
   "cell_type": "markdown",
   "metadata": {
    "colab_type": "text",
    "id": "OdFXv2liFPv5"
   },
   "source": [
    "## Suite de Héron\n",
    "Dans cette activité vous allez rencontrer les notions suivantes de Python:$\\phantom{*   Les fonctions}$\n",
    "*   L'affectation des variables\n",
    "*   Les boucles `for` et `while`\n",
    "*   Appel d'une bibliothèque (ici `math`)\n",
    "\n"
   ]
  },
  {
   "cell_type": "markdown",
   "metadata": {
    "colab_type": "text",
    "id": "9HsPBtVdDYKT"
   },
   "source": [
    "On veut déterminer une valeur approchée de $\\sqrt{a}$ (où $a\\in\\mathbb{R}^+$) par la suite dite de Héron:\n",
    "\n",
    "$\\forall n\\in\\mathbb{N},\\ a_{n+1}=\\dfrac12\\left(a_n+\\dfrac{a}{a_n}\\right)$, $a_0=a$"
   ]
  },
  {
   "cell_type": "markdown",
   "metadata": {
    "colab_type": "text",
    "id": "uGlg2p0UEnSO"
   },
   "source": [
    "$\\bigtriangledown$ Définir la fonction  $f_a$  telle que : $\\forall n\\in\\mathbb{N},\\ a_{n+1}=f_a(a_n)$. On la notera en Python comme une fonction avec deux paramètres : `f(a,x)` ."
   ]
  },
  {
   "cell_type": "code",
   "execution_count": 0,
   "metadata": {
    "colab": {
     "autoexec": {
      "startup": false,
      "wait_interval": 0
     }
    },
    "colab_type": "code",
    "id": "L37KLoDOEYGx"
   },
   "outputs": [],
   "source": [
    "def f(a,x):\n",
    "  return ###"
   ]
  },
  {
   "cell_type": "markdown",
   "metadata": {
    "colab_type": "text",
    "id": "km0Q8LhcFkVM"
   },
   "source": [
    "### Boucle for\n",
    "$\\bigtriangledown$ On peut maintenant écrire une boucle pour itérer cette fonction à partir du terme initial $a$. Compléter la fonction suivante qui renvoie $a_n$."
   ]
  },
  {
   "cell_type": "code",
   "execution_count": 0,
   "metadata": {
    "colab": {
     "autoexec": {
      "startup": false,
      "wait_interval": 0
     }
    },
    "colab_type": "code",
    "id": "ZRFvUWhNGG6L"
   },
   "outputs": [],
   "source": [
    "def Heron(a,n):\n",
    "  reponse=a   #initialisation: la variable reponse prend la valeur de a\n",
    "  for k in range(n):\n",
    "    reponse=#####\n",
    "    #print k, reponse\n",
    "  return reponse"
   ]
  },
  {
   "cell_type": "code",
   "execution_count": 0,
   "metadata": {
    "colab": {
     "autoexec": {
      "startup": false,
      "wait_interval": 0
     }
    },
    "colab_type": "code",
    "id": "2fLLa1O-HdBn"
   },
   "outputs": [],
   "source": [
    "Heron(2,4)"
   ]
  },
  {
   "cell_type": "markdown",
   "metadata": {
    "colab_type": "text",
    "id": "a3a7qgG3GFZv"
   },
   "source": [
    "Relancer la fonction précédente en décommentant la ligne avec le print (effacer le dièse #). Ceci est utile en phase de création pour vérifier l'état des variables.\n",
    "\n",
    "\n",
    "$\\bigtriangledown$ Copier et modifier cette fonction pour qu'elle prenne en paramètre le terme initial choisi `a_0`. On l'apellera par exemple Heron0(a_0 , a , n)"
   ]
  },
  {
   "cell_type": "code",
   "execution_count": 0,
   "metadata": {
    "colab": {
     "autoexec": {
      "startup": false,
      "wait_interval": 0
     }
    },
    "colab_type": "code",
    "id": "dw6ah3WNJCAE"
   },
   "outputs": [],
   "source": []
  },
  {
   "cell_type": "markdown",
   "metadata": {
    "colab_type": "text",
    "id": "J-JOxM0z2tbA"
   },
   "source": [
    "\n",
    "---\n",
    "\n",
    "#### $\\bigstar$ Info Python  : \n",
    "*  La boucle `for` est utilisée lorsqu'on a un nombre connu de tâches à répéter. \n",
    "*  `range(n)` signifie de $0$ à $n-1$. On peut aussi spécifier l'intervalle. Par exemple `range(1,n)` pour aller de $1$ à $n-1$. \n",
    "\n",
    "\n",
    "---\n",
    "\n"
   ]
  },
  {
   "cell_type": "markdown",
   "metadata": {
    "colab_type": "text",
    "id": "p92LmN0qJTvx"
   },
   "source": [
    "### Boucle while \n",
    "On aimerait ne pas choisir $n$ mais plutôt une précision `eps`. Compléter la fonction `racine(a,eps)` qui renvoie le premier terme $a_n$ tel que $|a_n-a_{n-1}|<\\varepsilon$. On va donc itérer la fonction $f(a,x)$ **tant que** (`while`) cette condition n'est pas vérifiée. "
   ]
  },
  {
   "cell_type": "markdown",
   "metadata": {
    "colab_type": "text",
    "id": "AfKvONUyMEKL"
   },
   "source": [
    "Voici une telle fonction en utilisant la fonction `Heron(a,n)`:"
   ]
  },
  {
   "cell_type": "code",
   "execution_count": 0,
   "metadata": {
    "colab": {
     "autoexec": {
      "startup": false,
      "wait_interval": 0
     }
    },
    "colab_type": "code",
    "id": "FpU_9UAaMTzu"
   },
   "outputs": [],
   "source": [
    "def racine0(a,eps):\n",
    "  n=1\n",
    "  while abs(Heron(a,n)-Heron(a,n-1))>=eps:\n",
    "    n=n+1\n",
    "  return Heron(a,n)"
   ]
  },
  {
   "cell_type": "markdown",
   "metadata": {
    "colab_type": "text",
    "id": "Bip6_FQ8My3t"
   },
   "source": [
    "$\\bigtriangledown$ Tester cette fonction."
   ]
  },
  {
   "cell_type": "code",
   "execution_count": 0,
   "metadata": {
    "colab": {
     "autoexec": {
      "startup": false,
      "wait_interval": 0
     },
     "base_uri": "https://localhost:8080/",
     "height": 34
    },
    "colab_type": "code",
    "executionInfo": {
     "elapsed": 721,
     "status": "ok",
     "timestamp": 1526629621740,
     "user": {
      "displayName": "Vincent Pantaloni",
      "photoUrl": "//lh6.googleusercontent.com/-Z_vbJeTNcPY/AAAAAAAAAAI/AAAAAAAAAUE/lEKuWTKyvzE/s50-c-k-no/photo.jpg",
      "userId": "104219007060452172887"
     },
     "user_tz": -120
    },
    "id": "2bILD2rDNHEP",
    "outputId": "feab4d9f-f074-4e91-e383-597c4ed81b1b"
   },
   "outputs": [
    {
     "data": {
      "text/plain": [
       "4.000000636692939"
      ]
     },
     "execution_count": 37,
     "metadata": {
      "tags": []
     },
     "output_type": "execute_result"
    }
   ],
   "source": [
    "racine0(16,0.1)"
   ]
  },
  {
   "cell_type": "markdown",
   "metadata": {
    "colab_type": "text",
    "id": "-ti0Dhe38ffz"
   },
   "source": [
    "$\\bigtriangledown$ En écrire une autre `racine1(a,eps)` qui ne demande pas de recalculer tous les termes de la suite à chaque tour dans la boucle `while`."
   ]
  },
  {
   "cell_type": "code",
   "execution_count": 0,
   "metadata": {
    "colab": {
     "autoexec": {
      "startup": false,
      "wait_interval": 0
     }
    },
    "colab_type": "code",
    "id": "SNAzRHggKLnv"
   },
   "outputs": [],
   "source": [
    "def racine1(a,eps):\n",
    "  a_0=a\n",
    "  a_1=f(a,a_0)\n",
    "  while abs(a_1-a_0)>=eps:\n",
    "    a_0=a_1\n",
    "    a_1=f(a,a_1)\n",
    "  return a_1"
   ]
  },
  {
   "cell_type": "code",
   "execution_count": 0,
   "metadata": {
    "colab": {
     "autoexec": {
      "startup": false,
      "wait_interval": 0
     },
     "base_uri": "https://localhost:8080/",
     "height": 34
    },
    "colab_type": "code",
    "executionInfo": {
     "elapsed": 616,
     "status": "ok",
     "timestamp": 1526629680028,
     "user": {
      "displayName": "Vincent Pantaloni",
      "photoUrl": "//lh6.googleusercontent.com/-Z_vbJeTNcPY/AAAAAAAAAAI/AAAAAAAAAUE/lEKuWTKyvzE/s50-c-k-no/photo.jpg",
      "userId": "104219007060452172887"
     },
     "user_tz": -120
    },
    "id": "6oj-2MjDN6P7",
    "outputId": "55884f96-7e66-47a6-a1fe-b22c94d77628"
   },
   "outputs": [
    {
     "data": {
      "text/plain": [
       "4.000000636692939"
      ]
     },
     "execution_count": 43,
     "metadata": {
      "tags": []
     },
     "output_type": "execute_result"
    }
   ],
   "source": [
    "racine1(16,0.1)"
   ]
  },
  {
   "cell_type": "code",
   "execution_count": 0,
   "metadata": {
    "colab": {
     "autoexec": {
      "startup": false,
      "wait_interval": 0
     }
    },
    "colab_type": "code",
    "id": "ikmqetpVOEBD"
   },
   "outputs": [],
   "source": []
  },
  {
   "cell_type": "markdown",
   "metadata": {
    "colab_type": "text",
    "id": "hUCZZyX-ObGG"
   },
   "source": [
    "### sqrt avec la bibliothèque math \n",
    "La fonction racine carrée est présente dans Python mais il faut pour cela charger la bibliothèque (on dit aussi module) math. Il y a différentes façons de faire :"
   ]
  },
  {
   "cell_type": "code",
   "execution_count": 0,
   "metadata": {
    "colab": {
     "autoexec": {
      "startup": false,
      "wait_interval": 0
     },
     "base_uri": "https://localhost:8080/",
     "height": 34
    },
    "colab_type": "code",
    "executionInfo": {
     "elapsed": 759,
     "status": "ok",
     "timestamp": 1526630060854,
     "user": {
      "displayName": "Vincent Pantaloni",
      "photoUrl": "//lh6.googleusercontent.com/-Z_vbJeTNcPY/AAAAAAAAAAI/AAAAAAAAAUE/lEKuWTKyvzE/s50-c-k-no/photo.jpg",
      "userId": "104219007060452172887"
     },
     "user_tz": -120
    },
    "id": "4yxrMWY2O8s0",
    "outputId": "b9d63134-8c1d-4dd1-f650-2643be49c3c1"
   },
   "outputs": [
    {
     "data": {
      "text/plain": [
       "1.4142135623730951"
      ]
     },
     "execution_count": 54,
     "metadata": {
      "tags": []
     },
     "output_type": "execute_result"
    }
   ],
   "source": [
    "import math #on importe la bibliothèque math\n",
    "math.sqrt(2) #toutes les fonctions s'appellent avec le préfixe math. C'est un peu lourd..."
   ]
  },
  {
   "cell_type": "code",
   "execution_count": 0,
   "metadata": {
    "colab": {
     "autoexec": {
      "startup": false,
      "wait_interval": 0
     },
     "base_uri": "https://localhost:8080/",
     "height": 34
    },
    "colab_type": "code",
    "executionInfo": {
     "elapsed": 613,
     "status": "ok",
     "timestamp": 1526630081217,
     "user": {
      "displayName": "Vincent Pantaloni",
      "photoUrl": "//lh6.googleusercontent.com/-Z_vbJeTNcPY/AAAAAAAAAAI/AAAAAAAAAUE/lEKuWTKyvzE/s50-c-k-no/photo.jpg",
      "userId": "104219007060452172887"
     },
     "user_tz": -120
    },
    "id": "OXFalujwPi2i",
    "outputId": "4ba5f1f6-7c2a-45e4-9f5f-cdb1de84fa84"
   },
   "outputs": [
    {
     "data": {
      "text/plain": [
       "1.4142135623730951"
      ]
     },
     "execution_count": 55,
     "metadata": {
      "tags": []
     },
     "output_type": "execute_result"
    }
   ],
   "source": [
    "import math as m #On peut donner un petit nom à la bibliothèque.\n",
    "m.sqrt(2)"
   ]
  },
  {
   "cell_type": "code",
   "execution_count": 0,
   "metadata": {
    "colab": {
     "autoexec": {
      "startup": false,
      "wait_interval": 0
     },
     "base_uri": "https://localhost:8080/",
     "height": 34
    },
    "colab_type": "code",
    "executionInfo": {
     "elapsed": 1030,
     "status": "ok",
     "timestamp": 1526629912623,
     "user": {
      "displayName": "Vincent Pantaloni",
      "photoUrl": "//lh6.googleusercontent.com/-Z_vbJeTNcPY/AAAAAAAAAAI/AAAAAAAAAUE/lEKuWTKyvzE/s50-c-k-no/photo.jpg",
      "userId": "104219007060452172887"
     },
     "user_tz": -120
    },
    "id": "FXAOaeLqOv6K",
    "outputId": "a64d1bc0-1f6a-4438-ec2a-3fdc6683d6c5"
   },
   "outputs": [
    {
     "data": {
      "text/plain": [
       "1.4142135623730951"
      ]
     },
     "execution_count": 46,
     "metadata": {
      "tags": []
     },
     "output_type": "execute_result"
    }
   ],
   "source": [
    "from math import* #L'astérisque signifie sans préfixe, c'est pratique, mais on importe encore toute la bibliothèque.\n",
    "sqrt(2)"
   ]
  },
  {
   "cell_type": "code",
   "execution_count": 0,
   "metadata": {
    "colab": {
     "autoexec": {
      "startup": false,
      "wait_interval": 0
     },
     "base_uri": "https://localhost:8080/",
     "height": 34
    },
    "colab_type": "code",
    "executionInfo": {
     "elapsed": 608,
     "status": "ok",
     "timestamp": 1526630005345,
     "user": {
      "displayName": "Vincent Pantaloni",
      "photoUrl": "//lh6.googleusercontent.com/-Z_vbJeTNcPY/AAAAAAAAAAI/AAAAAAAAAUE/lEKuWTKyvzE/s50-c-k-no/photo.jpg",
      "userId": "104219007060452172887"
     },
     "user_tz": -120
    },
    "id": "rju69s2UPMNz",
    "outputId": "09370e09-ee74-47c2-c445-e9bb4a0c4121"
   },
   "outputs": [
    {
     "data": {
      "text/plain": [
       "1.4142135623730951"
      ]
     },
     "execution_count": 52,
     "metadata": {
      "tags": []
     },
     "output_type": "execute_result"
    }
   ],
   "source": [
    "from math import sqrt #Ici on n'importe que la fonction nécessaire sqrt\n",
    "sqrt(2)"
   ]
  },
  {
   "cell_type": "code",
   "execution_count": 0,
   "metadata": {
    "colab": {
     "autoexec": {
      "startup": false,
      "wait_interval": 0
     },
     "base_uri": "https://localhost:8080/",
     "height": 34
    },
    "colab_type": "code",
    "executionInfo": {
     "elapsed": 883,
     "status": "ok",
     "timestamp": 1526638124422,
     "user": {
      "displayName": "Vincent Pantaloni",
      "photoUrl": "//lh6.googleusercontent.com/-Z_vbJeTNcPY/AAAAAAAAAAI/AAAAAAAAAUE/lEKuWTKyvzE/s50-c-k-no/photo.jpg",
      "userId": "104219007060452172887"
     },
     "user_tz": -120
    },
    "id": "WVLJaBwDPWD5",
    "outputId": "ad15dad7-242c-4f8a-b7b9-2c4c6f051915"
   },
   "outputs": [
    {
     "data": {
      "text/plain": [
       "1.4142135623730951"
      ]
     },
     "execution_count": 81,
     "metadata": {
      "tags": []
     },
     "output_type": "execute_result"
    }
   ],
   "source": [
    "from math import sqrt as rac #pareil, mais on la renomme en rac (c'est un alias)\n",
    "rac(2)"
   ]
  },
  {
   "cell_type": "code",
   "execution_count": 0,
   "metadata": {
    "colab": {
     "autoexec": {
      "startup": false,
      "wait_interval": 0
     }
    },
    "colab_type": "code",
    "id": "Zv8WxtF_uTV8"
   },
   "outputs": [],
   "source": [
    "from math import log as ln #autre exemple pour le lgarithme néperien\n",
    "\n",
    "ln(2)"
   ]
  },
  {
   "cell_type": "markdown",
   "metadata": {
    "colab_type": "text",
    "id": "8DATFSUKckpn"
   },
   "source": [
    "## Tests de primalité\n",
    "Dans cette activité vous allez rencontrer les notions suivantes :\n",
    "\n",
    "\n",
    "*   Tests ( ==, !=, <, >, <=, >=)\n",
    "*   Booléen (`True`, `False`)\n",
    "*   Conditionnelle (si... alors...)\n",
    "*   Reste dans la division euclidienne de a par b: a%b\n",
    "\n",
    "\n",
    "On veut implémenter en Python cet algorithme naïf de test de primalité :\n",
    "\n",
    "Est-ce-que l'entier n est premier ? \n",
    "\n",
    "*   En commençant avec $k=2$, tant que $k$ ne divise pas $n$ et est inférieur à $\\sqrt{n}$, on passe à l'entier suivant.\n",
    "*   Si on trouve un diviseur, alors $n$ n'est pas premier, et sinon il est premier."
   ]
  },
  {
   "cell_type": "markdown",
   "metadata": {
    "colab_type": "text",
    "id": "MuEAKgu5wdvV"
   },
   "source": [
    "Si on veut effectuer une fonction testant si un nombre est pair ou impair, on pourrait faire ainsi comme suit.  Remarquez le `==` pour tester l'égalité. \n",
    "\n",
    "$\\bigtriangledown$ Testez cette fonction avec quelques entiers."
   ]
  },
  {
   "cell_type": "code",
   "execution_count": 0,
   "metadata": {
    "colab": {
     "autoexec": {
      "startup": false,
      "wait_interval": 0
     }
    },
    "colab_type": "code",
    "id": "0kkeLnAovGZO"
   },
   "outputs": [],
   "source": [
    "def est_pair1(n):\n",
    "  if n%2==0:\n",
    "    print n, 'est pair'\n",
    "  else :\n",
    "    print n, 'est impair'"
   ]
  },
  {
   "cell_type": "code",
   "execution_count": 0,
   "metadata": {
    "colab": {
     "autoexec": {
      "startup": false,
      "wait_interval": 0
     },
     "base_uri": "https://localhost:8080/",
     "height": 34
    },
    "colab_type": "code",
    "executionInfo": {
     "elapsed": 621,
     "status": "ok",
     "timestamp": 1526638681158,
     "user": {
      "displayName": "Vincent Pantaloni",
      "photoUrl": "//lh6.googleusercontent.com/-Z_vbJeTNcPY/AAAAAAAAAAI/AAAAAAAAAUE/lEKuWTKyvzE/s50-c-k-no/photo.jpg",
      "userId": "104219007060452172887"
     },
     "user_tz": -120
    },
    "id": "bHFmwmfGve-F",
    "outputId": "60eb3c85-fdbe-4804-db9b-e91f6f9ec6ed"
   },
   "outputs": [
    {
     "name": "stdout",
     "output_type": "stream",
     "text": [
      "28 est pair\n"
     ]
    }
   ],
   "source": [
    "est_pair1(28)"
   ]
  },
  {
   "cell_type": "markdown",
   "metadata": {
    "colab_type": "text",
    "id": "XR5JpSAaw25r"
   },
   "source": [
    "Mais cette fonction renvoie un message qui n'est pas exploitable ensuite dans une autre fonction. On préfèrera dans ce cas une fonction qui renvoie vrai ou faux (`True` ou `False`) c'est à dire un booléen. Et c'est plus simple:"
   ]
  },
  {
   "cell_type": "code",
   "execution_count": 0,
   "metadata": {
    "colab": {
     "autoexec": {
      "startup": false,
      "wait_interval": 0
     }
    },
    "colab_type": "code",
    "id": "mXTy5HODuSVM"
   },
   "outputs": [],
   "source": [
    "def est_pair(n):\n",
    "  return n%2==0"
   ]
  },
  {
   "cell_type": "code",
   "execution_count": 0,
   "metadata": {
    "colab": {
     "autoexec": {
      "startup": false,
      "wait_interval": 0
     }
    },
    "colab_type": "code",
    "id": "tnDZuTlRxSsp"
   },
   "outputs": [],
   "source": [
    "est_pair(28)"
   ]
  },
  {
   "cell_type": "markdown",
   "metadata": {
    "colab_type": "text",
    "id": "dsub2SHq0Gzl"
   },
   "source": [
    "$\\bigtriangledown$ Testez la fonction suivante, que renvoie-t-elle ? "
   ]
  },
  {
   "cell_type": "code",
   "execution_count": 0,
   "metadata": {
    "colab": {
     "autoexec": {
      "startup": false,
      "wait_interval": 0
     }
    },
    "colab_type": "code",
    "id": "81VyMYmQzSko"
   },
   "outputs": [],
   "source": [
    "def ppd(n):\n",
    "  k=2\n",
    "  while k <= n and n%k != 0:\n",
    "    k=k+1\n",
    "  return k"
   ]
  },
  {
   "cell_type": "code",
   "execution_count": 0,
   "metadata": {
    "colab": {
     "autoexec": {
      "startup": false,
      "wait_interval": 0
     }
    },
    "colab_type": "code",
    "id": "KUvmICtizvro"
   },
   "outputs": [],
   "source": [
    "ppd(37)"
   ]
  },
  {
   "cell_type": "markdown",
   "metadata": {
    "colab_type": "text",
    "id": "RreveQhd0mPl"
   },
   "source": [
    "\n",
    "---\n",
    "\n",
    "#### $\\bigstar$ Info Python  : \n",
    "* Ne pas confondre `=` (affectation) et `==` (test d'égalité)\n",
    "* Opérateurs de comparaison :  ` < `, ` <= `, ` > `, ` >= ` , ` == ` et ` != `\n",
    "* On a vu le lien logique `and` il y a aussi `or`, `not`\n",
    "* `a != b` équivaut à   `not (a == b)` et sert donc à tester si deux nombres sont différents.\n",
    "\n",
    "\n",
    "---\n",
    "\n"
   ]
  },
  {
   "cell_type": "markdown",
   "metadata": {
    "colab_type": "text",
    "id": "PyDH88dJ1L_c"
   },
   "source": [
    "$\\bigtriangledown$ Ecrire une fonction `est_premier1(n)` qui renvoie un booléen, `True` si `n` est premier et `False` sinon en utilisant la fonction `ppd` précédente."
   ]
  },
  {
   "cell_type": "code",
   "execution_count": 0,
   "metadata": {
    "colab": {
     "autoexec": {
      "startup": false,
      "wait_interval": 0
     }
    },
    "colab_type": "code",
    "id": "eZThkyvf1pNd"
   },
   "outputs": [],
   "source": [
    "def est_premier1(n):"
   ]
  },
  {
   "cell_type": "code",
   "execution_count": 0,
   "metadata": {
    "colab": {
     "autoexec": {
      "startup": false,
      "wait_interval": 0
     }
    },
    "colab_type": "code",
    "id": "DngrNFi8141y"
   },
   "outputs": [],
   "source": [
    "est_premier1(31)"
   ]
  },
  {
   "cell_type": "code",
   "execution_count": 0,
   "metadata": {
    "colab": {
     "autoexec": {
      "startup": false,
      "wait_interval": 0
     }
    },
    "colab_type": "code",
    "id": "odG8qM1F2Ig4"
   },
   "outputs": [],
   "source": [
    "est_premier1(27644437) #Un gros premier pour tester"
   ]
  },
  {
   "cell_type": "markdown",
   "metadata": {
    "colab_type": "text",
    "id": "Zg_hbtY_4N2i"
   },
   "source": [
    "$\\bigtriangledown$  Utilisez cette fonction pour trouver la première paire de nombres premiers jumeaux (i.e. n et n+2 sont premiers) supérieurs à 1000, puis 100000"
   ]
  },
  {
   "cell_type": "code",
   "execution_count": 0,
   "metadata": {
    "colab": {
     "autoexec": {
      "startup": false,
      "wait_interval": 0
     }
    },
    "colab_type": "code",
    "id": "21aCUVZq4qFO"
   },
   "outputs": [],
   "source": [
    "n=100000\n",
    "while #### :\n",
    "  ####\n",
    "n, n+2"
   ]
  },
  {
   "cell_type": "markdown",
   "metadata": {
    "colab_type": "text",
    "id": "CjNmSbKh3giq"
   },
   "source": [
    "$\\bigtriangledown$ Ecrire une autre fonction `est_premier2(n)` moins gourmande en calculs, en  arrêtant la recherche des diviseurs à $\\sqrt{n}$."
   ]
  },
  {
   "cell_type": "code",
   "execution_count": 0,
   "metadata": {
    "colab": {
     "autoexec": {
      "startup": false,
      "wait_interval": 0
     }
    },
    "colab_type": "code",
    "id": "JVxbgentimi1"
   },
   "outputs": [],
   "source": [
    "from math import sqrt\n",
    "def est_premier2(n):"
   ]
  },
  {
   "cell_type": "markdown",
   "metadata": {
    "colab_type": "text",
    "id": "gZS5aSZk6xLw"
   },
   "source": [
    "On peut faire un test de pseudo-primalité basé sur le petit théorème de Fermat, même si sa réciproque est fausse.\n",
    "\n",
    "\n",
    "> **Petit théorème de Fermat :**\n",
    "\n",
    ">Si $p$ est premier et que $p$ ne divise pas l'entier $a$ : \n",
    "\n",
    ">>>$a^{p-1}\\equiv 1\\ \\text{(modulo $p$)}$ \n",
    "\n",
    "Autrement dit $p$ divise $a^{p-1}-1$.\n",
    "\n",
    "$\\bigtriangledown$ Ecrire une fonction `verif_Fermat(n,a)` qui renvoie `True` si  $n$ divise $a^{n-1}-1$ et `False` sinon."
   ]
  },
  {
   "cell_type": "code",
   "execution_count": 0,
   "metadata": {
    "colab": {
     "autoexec": {
      "startup": false,
      "wait_interval": 0
     }
    },
    "colab_type": "code",
    "id": "1lm0tq-g6xvN"
   },
   "outputs": [],
   "source": [
    "def verif_Fermat(n,a):\n",
    "  return ###"
   ]
  },
  {
   "cell_type": "code",
   "execution_count": 0,
   "metadata": {
    "colab": {
     "autoexec": {
      "startup": false,
      "wait_interval": 0
     }
    },
    "colab_type": "code",
    "id": "rjRCY4XV-UqL"
   },
   "outputs": [],
   "source": [
    "verif_Fermat(3,2)"
   ]
  },
  {
   "cell_type": "markdown",
   "metadata": {
    "colab_type": "text",
    "id": "Taa4Uy219XJi"
   },
   "source": [
    "$\\bigtriangledown$ Trouver le plus petit nombre non premier qui vérifie quand même le résultat du théorème de Fermat pour $a=2$."
   ]
  },
  {
   "cell_type": "code",
   "execution_count": 0,
   "metadata": {
    "colab": {
     "autoexec": {
      "startup": false,
      "wait_interval": 0
     },
     "base_uri": "https://localhost:8080/",
     "height": 34
    },
    "colab_type": "code",
    "executionInfo": {
     "elapsed": 950,
     "status": "ok",
     "timestamp": 1526642484109,
     "user": {
      "displayName": "Vincent Pantaloni",
      "photoUrl": "//lh6.googleusercontent.com/-Z_vbJeTNcPY/AAAAAAAAAAI/AAAAAAAAAUE/lEKuWTKyvzE/s50-c-k-no/photo.jpg",
      "userId": "104219007060452172887"
     },
     "user_tz": -120
    },
    "id": "Im9qddxM9pd_",
    "outputId": "eb438f1a-1a0b-47a9-c4cc-e06fba184391"
   },
   "outputs": [
    {
     "data": {
      "text/plain": [
       "341"
      ]
     },
     "execution_count": 144,
     "metadata": {
      "tags": []
     },
     "output_type": "execute_result"
    }
   ],
   "source": [
    "n=2\n",
    "while #####\n",
    "  n=n+1\n",
    "n"
   ]
  },
  {
   "cell_type": "markdown",
   "metadata": {
    "colab_type": "text",
    "id": "dOWAvAzK8XNa"
   },
   "source": [
    "$\\bigtriangledown$ Ecrire une fonction `est_pseudo_premier(n)` qui renvoie `True` si  $n$ vérifie le théorème de Fermat pour $a=2$ et pour $a=3$ et `False` sinon."
   ]
  },
  {
   "cell_type": "code",
   "execution_count": 0,
   "metadata": {
    "colab": {
     "autoexec": {
      "startup": false,
      "wait_interval": 0
     }
    },
    "colab_type": "code",
    "id": "phvLQKIs83I0"
   },
   "outputs": [],
   "source": [
    "def est_pseudo_premier(n):"
   ]
  },
  {
   "cell_type": "markdown",
   "metadata": {
    "colab_type": "text",
    "id": "nnqTHyYl_b_f"
   },
   "source": [
    "$\\bigtriangledown$ Trouver tous les nombres inférieurs à 10000 qui sont pseudo-premiers mais qui ne sont pas premiers. "
   ]
  },
  {
   "cell_type": "code",
   "execution_count": 0,
   "metadata": {
    "colab": {
     "autoexec": {
      "startup": false,
      "wait_interval": 0
     }
    },
    "colab_type": "code",
    "id": "feKlFetK88tN"
   },
   "outputs": [],
   "source": [
    "n=2\n",
    "while ###"
   ]
  },
  {
   "cell_type": "markdown",
   "metadata": {
    "colab_type": "text",
    "id": "d9Dl2N3bOKSj"
   },
   "source": [
    "## Le juste prix / devine mon nombre\n",
    "\n",
    "On veut modéliser le fameux jeu où il faut trouver le nombre caché avec pour seul retour l'information de si le nombre caché est plus grand ou plus petit que celui proposé."
   ]
  },
  {
   "cell_type": "markdown",
   "metadata": {
    "colab_type": "text",
    "id": "mTHcKp7MSX1k"
   },
   "source": [
    "\n",
    "\n",
    "---\n",
    "\n",
    "\n",
    "#### $\\bigstar$ Info Python  : \n",
    ">  Pour un tirage aléatoire il y a les fonctions \n",
    "* `random( ) `\n",
    "* `randint(a,b)` \n",
    "\n",
    "> toutes deux dans le module **random**\n",
    "\n",
    "\n",
    "---\n",
    "\n"
   ]
  },
  {
   "cell_type": "code",
   "execution_count": 0,
   "metadata": {
    "colab": {
     "autoexec": {
      "startup": false,
      "wait_interval": 0
     }
    },
    "colab_type": "code",
    "id": "uZAv9AUjQXoN"
   },
   "outputs": [],
   "source": [
    "from random import*"
   ]
  },
  {
   "cell_type": "code",
   "execution_count": 0,
   "metadata": {
    "colab": {
     "autoexec": {
      "startup": false,
      "wait_interval": 0
     },
     "base_uri": "https://localhost:8080/",
     "height": 34
    },
    "colab_type": "code",
    "executionInfo": {
     "elapsed": 751,
     "status": "ok",
     "timestamp": 1526647807760,
     "user": {
      "displayName": "Vincent Pantaloni",
      "photoUrl": "//lh6.googleusercontent.com/-Z_vbJeTNcPY/AAAAAAAAAAI/AAAAAAAAAUE/lEKuWTKyvzE/s50-c-k-no/photo.jpg",
      "userId": "104219007060452172887"
     },
     "user_tz": -120
    },
    "id": "AMzNskDDS32h",
    "outputId": "9282bec4-d195-4b1d-c64d-1e9545252107"
   },
   "outputs": [
    {
     "data": {
      "text/plain": [
       "(6, 0.5262185818404131)"
      ]
     },
     "execution_count": 179,
     "metadata": {
      "tags": []
     },
     "output_type": "execute_result"
    }
   ],
   "source": [
    "randint(1,6), random()"
   ]
  },
  {
   "cell_type": "markdown",
   "metadata": {
    "colab_type": "text",
    "id": "AMoFzgNdWDyD"
   },
   "source": [
    "$\\bigtriangledown$ Notons `Nbsecret` le nombre aléatoire à deviner. Ce sera une variable globale que l'on changera pour chaque nouvelle partie en exécutant la cellule ci-dessous (à compléter)"
   ]
  },
  {
   "cell_type": "code",
   "execution_count": 0,
   "metadata": {
    "colab": {
     "autoexec": {
      "startup": false,
      "wait_interval": 0
     }
    },
    "colab_type": "code",
    "id": "l0aES_znS6WZ"
   },
   "outputs": [],
   "source": [
    "Nbsecret=###"
   ]
  },
  {
   "cell_type": "markdown",
   "metadata": {
    "colab_type": "text",
    "id": "sskl_dwwO_xb"
   },
   "source": [
    "$\\bigtriangledown$ Compléter la fonction  `pom(a)` (comme plus ou moins) qui renvoie `\"plus\"` ou `\"moins\"` ou `\"OUI !\"` selon si $a<Nbsecret$,  $a>Nbsecret$, ou $a=Nbsecret$."
   ]
  },
  {
   "cell_type": "code",
   "execution_count": 0,
   "metadata": {
    "colab": {
     "autoexec": {
      "startup": false,
      "wait_interval": 0
     }
    },
    "colab_type": "code",
    "id": "a7qLSHBuPtYy"
   },
   "outputs": [],
   "source": [
    "def pom(a):\n",
    "  if a<Nbsecret:\n",
    "    return 'plus'\n",
    "  ###"
   ]
  },
  {
   "cell_type": "markdown",
   "metadata": {
    "colab_type": "text",
    "id": "tKqD7YEgW6Rp"
   },
   "source": [
    "A vous de jouer !"
   ]
  },
  {
   "cell_type": "code",
   "execution_count": 0,
   "metadata": {
    "colab": {
     "autoexec": {
      "startup": false,
      "wait_interval": 0
     }
    },
    "colab_type": "code",
    "id": "CMH9XYjhQNa6"
   },
   "outputs": [],
   "source": [
    "pom(3)"
   ]
  },
  {
   "cell_type": "markdown",
   "metadata": {
    "colab_type": "text",
    "id": "3o4gHtFXYCnI"
   },
   "source": [
    "$\\bigtriangledown$ Améliorer le jeu avec un compteur du nombre d'essais avant le succès."
   ]
  },
  {
   "cell_type": "code",
   "execution_count": 0,
   "metadata": {
    "colab": {
     "autoexec": {
      "startup": false,
      "wait_interval": 0
     }
    },
    "colab_type": "code",
    "id": "66VCF1Od5-J7"
   },
   "outputs": [],
   "source": [
    "#"
   ]
  }
 ],
 "metadata": {
  "colab": {
   "default_view": {},
   "name": "0_Atelier-1A.ipynb",
   "provenance": [
    {
     "file_id": "1IQXi-Kqh9NbI9OiCL9VNI3TejrikSA0m",
     "timestamp": 1526711477101
    }
   ],
   "toc_visible": true,
   "version": "0.3.2",
   "views": {}
  },
  "kernelspec": {
   "display_name": "Python 3",
   "language": "python",
   "name": "python3"
  },
  "language_info": {
   "codemirror_mode": {
    "name": "ipython",
    "version": 3
   },
   "file_extension": ".py",
   "mimetype": "text/x-python",
   "name": "python",
   "nbconvert_exporter": "python",
   "pygments_lexer": "ipython3",
   "version": "3.5.1"
  }
 },
 "nbformat": 4,
 "nbformat_minor": 1
}
