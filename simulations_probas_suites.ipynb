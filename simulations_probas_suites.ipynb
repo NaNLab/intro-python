{
 "cells": [
  {
   "cell_type": "markdown",
   "metadata": {
    "colab_type": "text",
    "id": "IqNdbPfHmY8G"
   },
   "source": [
    "# Une histoire de spaghetti - Boucle for - Opérateurs conditionnels - Random\n",
    "\n",
    "Nous notons $\\ell$ la longueur d'un spaghetti. Pour simplifier, nous supposerons que cette longueur est unitaire et posons $\\ell=1$.\n",
    "\n",
    "On se demande quelle est la probabilité qu'un spaghetti, cassé aléatoirement en trois morceaux, puisse former un triangle avec ces trois morceaux.\n",
    "\n",
    "Nous allons évaluer *expérimentalement* cette probabilité. Pour cela nous allons nous servir d'un programme pour effectuer un grand nombre de simulations. Nous devons coder ce petit programme qui sera décomposé en plusieurs fonctions aux rôles bien définis. Chacune de ces fonctions fait l'objet d'un exercice.\n",
    "\n",
    "Notons $a, b \\in [0;1]$ les abscisses des points de rupture du spaghetti et $x$, $y$ et $z$ les longueurs des trois morceaux du spaghetti.\n",
    "Puisque nous supposons que la longueur du spaghetti\n",
    "est $\\ell=1$ on a : $x+y+z=1$.\n",
    "\n",
    "**Une propriété mathématique:**\n",
    "Le triangle peut être construit à partir des 3 morceaux *si et seulement si* $x < \\frac{1}{2}$, $y < \\frac{1}{2}$ et $z < \\frac{1}{2}$.\n",
    "\n",
    "**Démonstration :** à la charge du lecteur ...\n",
    "\n",
    "## Exercice\n",
    "Écrivez une fonction `forme_triangle`. Elle attend trois *paramètres* (aussi appelés, *arguments*) notés `x`, `y` et `z`. Elle doit retourner un `booléen` (`True` ou `False`) selon qu'un triangle de côté $x,y,z$ soit constructible ou non.\n",
    "\n",
    "On rappelle que les `booléens` sont utilisés, par exemple, dans tous les tests conditionnels et que, toujours pour l'exemple, les instructions suivantes :"
   ]
  },
  {
   "cell_type": "code",
   "execution_count": 2,
   "metadata": {
    "colab": {
     "autoexec": {
      "startup": false,
      "wait_interval": 0
     },
     "base_uri": "https://localhost:8080/",
     "height": 36
    },
    "colab_type": "code",
    "executionInfo": {
     "elapsed": 576,
     "status": "ok",
     "timestamp": 1526747109062,
     "user": {
      "displayName": "Dominique Payant",
      "photoUrl": "https://lh3.googleusercontent.com/a/default-user=s128",
      "userId": "106581837731410294284"
     },
     "user_tz": -120
    },
    "id": "OlJSI7fEmY8O",
    "outputId": "af572558-8a5b-4fd3-99ed-069a77072241"
   },
   "outputs": [
    {
     "data": {
      "text/plain": [
       "True"
      ]
     },
     "execution_count": 2,
     "metadata": {
      "tags": []
     },
     "output_type": "execute_result"
    }
   ],
   "source": [
    "def croit1(x,y):\n",
    "  if y>x :\n",
    "    b = True\n",
    "  else:\n",
    "    b = False\n",
    "  return b\n",
    "\n",
    "croit1(3,5)"
   ]
  },
  {
   "cell_type": "markdown",
   "metadata": {
    "colab_type": "text",
    "id": "9OOGatrumY8o"
   },
   "source": [
    "sont équivalentes aux instructions suivantes (où `b` est aussi un `booléen`) :"
   ]
  },
  {
   "cell_type": "code",
   "execution_count": 4,
   "metadata": {
    "colab": {
     "autoexec": {
      "startup": false,
      "wait_interval": 0
     },
     "base_uri": "https://localhost:8080/",
     "height": 36
    },
    "colab_type": "code",
    "executionInfo": {
     "elapsed": 490,
     "status": "ok",
     "timestamp": 1526747149102,
     "user": {
      "displayName": "Dominique Payant",
      "photoUrl": "https://lh3.googleusercontent.com/a/default-user=s128",
      "userId": "106581837731410294284"
     },
     "user_tz": -120
    },
    "id": "laJJ8KSUmY8s",
    "outputId": "b28194b4-956f-4cd6-fdc4-06ca915ceeb8"
   },
   "outputs": [
    {
     "data": {
      "text/plain": [
       "True"
      ]
     },
     "execution_count": 4,
     "metadata": {
      "tags": []
     },
     "output_type": "execute_result"
    }
   ],
   "source": [
    "def croit2(x,y):\n",
    "  return y > x\n",
    "\n",
    "croit2(3,5)"
   ]
  },
  {
   "cell_type": "markdown",
   "metadata": {
    "colab_type": "text",
    "id": "9N-zrbRVmY8-"
   },
   "source": [
    "Voilà ... vous pouvez faire l'exercice :"
   ]
  },
  {
   "cell_type": "code",
   "execution_count": 0,
   "metadata": {
    "colab": {
     "autoexec": {
      "startup": false,
      "wait_interval": 0
     }
    },
    "colab_type": "code",
    "id": "UCHAIzFVmY9C"
   },
   "outputs": [],
   "source": [
    "def forme_triangle(x,y,z):\n",
    "    # Rappel : en python \"et\" se tape AND\n",
    "    # \n",
    "    return #"
   ]
  },
  {
   "cell_type": "markdown",
   "metadata": {
    "colab_type": "text",
    "id": "oXDRp8_ZmY9W"
   },
   "source": [
    "## Tirer un nombre aléatoire entre $a$ et $b$\n",
    "\n",
    "On rappelle que la méthode `uniform` du module `random` permet de choisir au hasard uniforme un nombre flottant de l'intervalle $[m;n]$ (on pourrait aussi utiliser la méthode `random` ...):"
   ]
  },
  {
   "cell_type": "code",
   "execution_count": 0,
   "metadata": {
    "colab": {
     "autoexec": {
      "startup": false,
      "wait_interval": 0
     }
    },
    "colab_type": "code",
    "id": "M3h-lKVDmY9c",
    "outputId": "c62ff77b-9228-4606-c18c-999e6f124683"
   },
   "outputs": [
    {
     "name": "stdout",
     "output_type": "stream",
     "text": [
      "0.2345561717010689\n",
      "0.9698420224271336\n",
      "0.796776612099488\n",
      "0.887771346392672\n",
      "0.006222659610105374\n"
     ]
    }
   ],
   "source": [
    "from random import uniform\n",
    "\n",
    "for i in range(5):\n",
    "    print(uniform(0, 1))"
   ]
  },
  {
   "cell_type": "markdown",
   "metadata": {
    "colab_type": "text",
    "id": "dppkgEyzmY9M"
   },
   "source": [
    "## Exercice\n",
    "\n",
    "Écrivez une fonction `casse_spaghetti` qui :\n",
    "- n'attend aucun paramètre\n",
    "- calcul **aléatoirement** trois longueurs $x$, $y$ et $z$ telles que $x + y + z = 1$\n",
    "- puis renvoie les trois longueurs sous la forme d'un triplet $(x,y,z)$"
   ]
  },
  {
   "cell_type": "code",
   "execution_count": 0,
   "metadata": {
    "colab": {
     "autoexec": {
      "startup": false,
      "wait_interval": 0
     }
    },
    "colab_type": "code",
    "id": "I8KUZ7i3mY9O"
   },
   "outputs": [],
   "source": [
    "from random import uniform\n",
    "\n",
    "def casse_spaghetti():\n",
    "    \"\"\"découpe un spagghetto en trois\"\"\"\n",
    "    # à coder...\n",
    "    \n",
    "    \n",
    "    \n",
    "    return (x, y, z)"
   ]
  },
  {
   "cell_type": "markdown",
   "metadata": {
    "colab_type": "text",
    "id": "xRDt2MOQmEae"
   },
   "source": [
    "## Exercice\n",
    "\n",
    "Complétez la fonction `simulation` (qui utilise les fonctions `triangle` et `longueur_cotes`) afin qu'elle simule l'expérience aléatoire et retourne `True` si on peut former un triangle et `False` sinon. "
   ]
  },
  {
   "cell_type": "code",
   "execution_count": 0,
   "metadata": {
    "colab": {
     "autoexec": {
      "startup": false,
      "wait_interval": 0
     }
    },
    "colab_type": "code",
    "id": "wmDeL2almY9w"
   },
   "outputs": [],
   "source": [
    "from random import uniform\n",
    "\n",
    "def simulation():\n",
    "    \"\"\"True si on forme un triangle en cassant un spaghetti ; False sinon\"\"\"\n",
    "    (a, b, c) = ? # quelle fonction appeler ?\n",
    "    return triangle( ? ) # quels arguments ?"
   ]
  },
  {
   "cell_type": "markdown",
   "metadata": {
    "colab_type": "text",
    "id": "2Zc6HlDpmY96"
   },
   "source": [
    "## Exercice  \n",
    "Écrivez maintenant la fonction `frequence` (qui utilise la fonction `simulation`) qui prend en argument un entier `nbExp` et qui calcule, sur `nbExp` simulations, la fréquence empirique de l'évènement \"Il est possible de former un triangle\" . \n",
    "> Le résultat dépend de la façon de modéliser le découpage !"
   ]
  },
  {
   "cell_type": "code",
   "execution_count": 0,
   "metadata": {
    "colab": {
     "autoexec": {
      "startup": false,
      "wait_interval": 0
     }
    },
    "colab_type": "code",
    "id": "R4hv8fpQmY9-"
   },
   "outputs": [],
   "source": [
    "def frequence(nbExp):\n",
    "  \n",
    "    return "
   ]
  },
  {
   "cell_type": "markdown",
   "metadata": {
    "colab_type": "text",
    "id": "Y-UX4aKiyjrS"
   },
   "source": [
    "# Le lièvre et la tortue, préambule - Temps d'attente du six\n",
    "\n",
    "L'instruction `randint` du module `random` permet de choisir un entier compris entre les deux bornes données (comprises) :\n"
   ]
  },
  {
   "cell_type": "code",
   "execution_count": 1,
   "metadata": {
    "colab": {
     "autoexec": {
      "startup": false,
      "wait_interval": 0
     },
     "base_uri": "https://localhost:8080/",
     "height": 111
    },
    "colab_type": "code",
    "executionInfo": {
     "elapsed": 3729,
     "status": "ok",
     "timestamp": 1526891138009,
     "user": {
      "displayName": "Dominique Payant",
      "photoUrl": "https://lh3.googleusercontent.com/a/default-user=s128",
      "userId": "106581837731410294284"
     },
     "user_tz": -120
    },
    "id": "vl9XuXDYmY-i",
    "outputId": "e1257999-74a7-46d6-afcc-92f747624d28"
   },
   "outputs": [
    {
     "name": "stdout",
     "output_type": "stream",
     "text": [
      "3\n",
      "3\n",
      "6\n",
      "5\n",
      "4\n"
     ]
    }
   ],
   "source": [
    "from random import*\n",
    "\n",
    "for i in range(5):\n",
    "    print(randint(1,6))"
   ]
  },
  {
   "cell_type": "markdown",
   "metadata": {
    "colab_type": "text",
    "id": "aOBNgESMzO_d"
   },
   "source": [
    "## Combien de temps faut-il en moyenne pour sortir un 6 avec un dé ?\n",
    "\n",
    "Pour répondre à cette question du temps d'attente du 6 avec un dé, on propose la fonction `attente6`. Mais cette fonction contient un bug sémantique (i.e. python interpréte bien cette fonction sans message d'erreur syntaxique, mais cette fonction ne réalise pas le calcul attendu).\n",
    "\n",
    "Corriger la fonction pour qu'elle donne bien le nombre de lancers de dé nécessaire à l'obtention d'un 6."
   ]
  },
  {
   "cell_type": "code",
   "execution_count": 0,
   "metadata": {
    "colab": {
     "autoexec": {
      "startup": false,
      "wait_interval": 0
     }
    },
    "colab_type": "code",
    "id": "kWomD1B60SqN"
   },
   "outputs": [],
   "source": [
    "from random import randint\n",
    "def attente6():\n",
    "    n = 0\n",
    "    while randint(1,6) != 6:\n",
    "        n = n + 1\n",
    "    return n"
   ]
  },
  {
   "cell_type": "code",
   "execution_count": 3,
   "metadata": {
    "colab": {
     "autoexec": {
      "startup": false,
      "wait_interval": 0
     },
     "base_uri": "https://localhost:8080/",
     "height": 36
    },
    "colab_type": "code",
    "executionInfo": {
     "elapsed": 506,
     "status": "ok",
     "timestamp": 1526891496212,
     "user": {
      "displayName": "Dominique Payant",
      "photoUrl": "https://lh3.googleusercontent.com/a/default-user=s128",
      "userId": "106581837731410294284"
     },
     "user_tz": -120
    },
    "id": "NW-tE4lT0wHT",
    "outputId": "ce85d71c-81b4-4206-d13e-7eacc77fab73"
   },
   "outputs": [
    {
     "data": {
      "text/plain": [
       "12"
      ]
     },
     "execution_count": 3,
     "metadata": {
      "tags": []
     },
     "output_type": "execute_result"
    }
   ],
   "source": [
    "attente6()"
   ]
  },
  {
   "cell_type": "markdown",
   "metadata": {
    "colab_type": "text",
    "id": "4SLLDP4e04LS"
   },
   "source": [
    "Coder la fonction `moyenne6` qui prend en argument l'entier `nbExp` et qui calcule la moyenne des temps d'attente des `nbExp` expériences simulées."
   ]
  },
  {
   "cell_type": "code",
   "execution_count": 0,
   "metadata": {
    "colab": {
     "autoexec": {
      "startup": false,
      "wait_interval": 0
     }
    },
    "colab_type": "code",
    "id": "X9xtHcFk1RU-"
   },
   "outputs": [],
   "source": [
    "def moyenne6(nbExp):\n",
    "  #\n",
    "  return #\n",
    "    "
   ]
  },
  {
   "cell_type": "markdown",
   "metadata": {
    "colab_type": "text",
    "id": "Mre1Qxrs1pUm"
   },
   "source": [
    "En moyenne, quel est le temps d'attente du 6 ?"
   ]
  },
  {
   "cell_type": "markdown",
   "metadata": {
    "colab_type": "text",
    "id": "8LXq3B6smY-W"
   },
   "source": [
    "# Le lièvre et la tortue version 1 - Boucle while - Opérateurs conditionnels - Random"
   ]
  },
  {
   "cell_type": "markdown",
   "metadata": {
    "colab_type": "text",
    "id": "GfjRrVHjmY-c"
   },
   "source": [
    "Voici les règles du jeu du lièvre et de la tortue :\n",
    "- Le lièvre et la tortue doivent faire une course en avançant de six cases sur une ligne de cases\n",
    "- ils lancent un dé : \n",
    "    - si le six sort le lièvre avance de six cases et gagne ;\n",
    "    - sinon la tortue avance d'une case puis on itère en relançant le dé\n",
    "    \n",
    "> En moyenne, il faut lancer le dé 6 fois pour sortir un six. La question de l'équité de ce jeu n'est donc pas très intuitive."
   ]
  },
  {
   "cell_type": "markdown",
   "metadata": {
    "colab_type": "text",
    "id": "M4V1t4HnmY--"
   },
   "source": [
    "## Exercice \n",
    "\n",
    "Écrivez une fonction `lievre_gagne` qui :\n",
    "- simule une partie (effectue le nombre de lancers du dé nécessaire pour que le lièvre ou la tortue gagne) ;\n",
    "- retourne le booléen `True` si le lièvre a gagné et le booléen `False` sinon"
   ]
  },
  {
   "cell_type": "code",
   "execution_count": 0,
   "metadata": {
    "colab": {
     "autoexec": {
      "startup": false,
      "wait_interval": 0
     }
    },
    "colab_type": "code",
    "id": "9kWEGzTAmY_E"
   },
   "outputs": [],
   "source": [
    "from random import*\n",
    "\n",
    "def lievre_gagne():\n",
    "    pass"
   ]
  },
  {
   "cell_type": "markdown",
   "metadata": {
    "colab_type": "text",
    "id": "u7zrLzZGmY_W"
   },
   "source": [
    "## Exercice \n",
    "\n",
    "Écrivez une fonction `frequence_lievre` afin qu'elle calcule la fréquence de victoires du lièvres sur un grand nombre de simulations de parties. Cette fonction prend en argument l'entier `nbExp` correspondant au nombre d'expériences souhaité. \n",
    "\n",
    "Bien entendu cette fonction réutilisera la fonction `lievre_gagne` précédente."
   ]
  },
  {
   "cell_type": "code",
   "execution_count": 0,
   "metadata": {
    "colab": {
     "autoexec": {
      "startup": false,
      "wait_interval": 0
     }
    },
    "colab_type": "code",
    "id": "AMjpJihFmY_Y"
   },
   "outputs": [],
   "source": [
    "def frequence_lievre(nbExp):\n",
    "    pass"
   ]
  },
  {
   "cell_type": "markdown",
   "metadata": {
    "colab_type": "text",
    "id": "eAz7FTsImY_m"
   },
   "source": [
    "# Le lièvre et la tortue version 2 - Opérateurs conditionnels - Random - Listes"
   ]
  },
  {
   "cell_type": "markdown",
   "metadata": {
    "colab_type": "text",
    "id": "JLkXr_52mY_o"
   },
   "source": [
    "On rappelle les règles du jeu du lièvre et de la tortue :\n",
    "- Le lièvre et la tortue doivent faire une course en avançant de six cases sur une ligne de cases\n",
    "- ils lancent un dé : \n",
    "    - si le six sort le lièvre avance de cinq cases et gagne ;\n",
    "    - sinon la tortue avance d'une case puis on itère en relançant le dé\n",
    "    \n",
    "Pour simuler ce jeu on se propose dans cette version d'utiliser une liste de six entiers correspondant à six lancers de dés (quitte à ne pas servir des lancers qui seraient successifs à l'obtention d'un six). Par exemple la liste suivante :\n",
    "\n",
    "`L=[3, 5, 1, 6, 1, 1]`\n",
    "\n",
    "correspond à une partie gagnée par le lièvre (on a tiré le cinquième et le sixième dé bien que ce soit, in fine, inutile). Alors que la liste suivante :\n",
    "\n",
    "`L=[1, 5, 5, 2, 4, 3]`\n",
    "\n",
    "correspond à une partie gagnée par la tortue"
   ]
  },
  {
   "cell_type": "markdown",
   "metadata": {
    "colab_type": "text",
    "id": "QqwwIpUimY_q"
   },
   "source": [
    "## Exercice\n",
    "\n",
    "Corriger les 4 erreurs de la fonction `liste_lancers` afin qu'elle retourne une liste de 6 entiers correspondant à six lancers de dé.\n"
   ]
  },
  {
   "cell_type": "code",
   "execution_count": 0,
   "metadata": {
    "colab": {
     "autoexec": {
      "startup": false,
      "wait_interval": 0
     }
    },
    "colab_type": "code",
    "id": "2PlRLbVa4nKa"
   },
   "outputs": [],
   "source": [
    "def liste_lancers():\n",
    "    liste = []\n",
    "    for i in range(6)\n",
    "    liste = liste + randint(6)\n",
    "    return liste_lancers\n",
    "  "
   ]
  },
  {
   "cell_type": "markdown",
   "metadata": {
    "colab_type": "text",
    "id": "fCvJ8ghHmZAS"
   },
   "source": [
    "## Exercice\n",
    "\n",
    "On veut une fonction `Lgagne(partie)` qui pour une partie (liste de six tirages) renvoie `True` si le lièvre gagne et `False` sinon. Parmi les propositions suivantes, laquelle ou lesquelles sont correctes ?"
   ]
  },
  {
   "cell_type": "code",
   "execution_count": 0,
   "metadata": {
    "colab": {
     "autoexec": {
      "startup": false,
      "wait_interval": 0
     }
    },
    "colab_type": "code",
    "id": "3zeQnqyomZAY"
   },
   "outputs": [],
   "source": [
    "def Lgagne1(partie):\n",
    "  res = True\n",
    "  for k in range(6):\n",
    "    if partie[k] != 6:\n",
    "      res=False\n",
    "  return res\n",
    "#\n",
    "def Lgagne2(partie):\n",
    "  for k in partie:\n",
    "    if k != 6:\n",
    "      res=False\n",
    "  return res\n",
    "#\n",
    "def Lgagne3(partie):\n",
    "  for k in partie:\n",
    "    if k != 6:\n",
    "      res=False\n",
    "    else : \n",
    "      return True\n",
    "  return res\n",
    "#\n",
    "def Lgagne4(partie):\n",
    "  Produit=1\n",
    "  for k in partie:\n",
    "    Produit=Produit*(6-k)\n",
    "  return Produit==0\n",
    "#\n",
    "def Lgagne5(partie):\n",
    "  return max(partie)==6\n",
    "#\n",
    "def Lgagne6(partie):\n",
    "  return 6 in partie"
   ]
  },
  {
   "cell_type": "code",
   "execution_count": 0,
   "metadata": {
    "colab": {
     "autoexec": {
      "startup": false,
      "wait_interval": 0
     }
    },
    "colab_type": "code",
    "id": "PbdxuteT6Ww6"
   },
   "outputs": [],
   "source": [
    "# exemple de tests :\n",
    "jeu = liste_lancers()\n",
    "Lgagne1( jeu )"
   ]
  },
  {
   "cell_type": "markdown",
   "metadata": {
    "colab_type": "text",
    "id": "XQjLVJuSmZA0"
   },
   "source": [
    "## Exercice \n",
    "\n",
    "Écrivez une fonction `tortue_gagne` qui, en utilisant les fonctions précédentes, effectue une simulation d'une partie du jeu du lièvre et de la tortue en retournant le booléen `True` si la tortue a gagné et le booléen `False` sinon."
   ]
  },
  {
   "cell_type": "code",
   "execution_count": 0,
   "metadata": {
    "colab": {
     "autoexec": {
      "startup": false,
      "wait_interval": 0
     }
    },
    "colab_type": "code",
    "id": "Myy6VgIrmZBA"
   },
   "outputs": [],
   "source": [
    "def tortue_gagne():\n",
    "    #\n",
    "    return #"
   ]
  },
  {
   "cell_type": "markdown",
   "metadata": {
    "colab_type": "text",
    "id": "boT_iPyDmZBK"
   },
   "source": [
    "## Exercice \n",
    "\n",
    "Écrivez une fonction `frequence_tortue` afin qu'elle calcule la fréquence de victoires de la tortue sur un grand nombre de simulations de parties. Cette fonction prend en argument l'entier `nbExp` correspondant au nombre d'expériences souhaité. \n",
    "\n",
    "Bien entendu cette fonction réutilisera la fonction `tortue_gagne` précédente."
   ]
  },
  {
   "cell_type": "code",
   "execution_count": 0,
   "metadata": {
    "colab": {
     "autoexec": {
      "startup": false,
      "wait_interval": 0
     }
    },
    "colab_type": "code",
    "id": "amwK82CEmZBM"
   },
   "outputs": [],
   "source": [
    "def frequence_tortue(nbExp):\n",
    "    #\n",
    "    return #"
   ]
  },
  {
   "cell_type": "markdown",
   "metadata": {
    "colab_type": "text",
    "id": "aZ7y2Ak-qWuL"
   },
   "source": [
    "## Exercice bonus (défi)\n",
    "Écrire une fonction qui calcule (statistiquement) la médiane du temps d'attente d'un six pour `nbExp` simulations.\n",
    "> Cet exercice réclame (au moins en première approche) la manipulation de listes."
   ]
  },
  {
   "cell_type": "code",
   "execution_count": 0,
   "metadata": {
    "colab": {
     "autoexec": {
      "startup": false,
      "wait_interval": 0
     }
    },
    "colab_type": "code",
    "id": "Shkww1faqpCj"
   },
   "outputs": [],
   "source": []
  },
  {
   "cell_type": "markdown",
   "metadata": {
    "colab_type": "text",
    "id": "GRQ3P-rI7J-R"
   },
   "source": [
    "# Approximation de $\\pi$ par une méthode de Monte-Carlo\n",
    "\n",
    "\n",
    "![Illustration wikipedia](https://upload.wikimedia.org/wikipedia/commons/8/84/Pi_30K.gif) (source : wikipedia.org)\n",
    "\n",
    "La méthode est bien connue :\n",
    "- on tire aléatoirement (uniformément) des points dans le carré unité\n",
    "- la fréquence des points dans le quart de cercle converge vers $\\dfrac{\\pi}{4}$\n",
    "\n",
    "Un point de coordonnées $(x, y)$ appartient au quart de cercle si et seulement si $x^2 + y^2 \\leqslant 1$\n",
    "\n",
    "\n",
    "On rappelle que l'instruction `random` du module `random` simule un nombre réel aléatoire de l'intervalle $\\left[0 ; 1\\right[$.\n"
   ]
  },
  {
   "cell_type": "code",
   "execution_count": 4,
   "metadata": {
    "colab": {
     "autoexec": {
      "startup": false,
      "wait_interval": 0
     },
     "base_uri": "https://localhost:8080/",
     "height": 111
    },
    "colab_type": "code",
    "executionInfo": {
     "elapsed": 530,
     "status": "ok",
     "timestamp": 1526894067824,
     "user": {
      "displayName": "Dominique Payant",
      "photoUrl": "https://lh3.googleusercontent.com/a/default-user=s128",
      "userId": "106581837731410294284"
     },
     "user_tz": -120
    },
    "id": "eg2Ln3NX-P-H",
    "outputId": "af80709d-5895-4871-d51b-c1bbfe6a331d"
   },
   "outputs": [
    {
     "name": "stdout",
     "output_type": "stream",
     "text": [
      "0.6713453610329001\n",
      "0.8683135069999112\n",
      "0.05358167058568453\n",
      "0.0643165069533973\n",
      "0.14807951814687692\n"
     ]
    }
   ],
   "source": [
    "from random import random\n",
    "\n",
    "random() # fonction sans argument (comme dans un tableur)\n",
    "\n",
    "for i in range(5):\n",
    "  print( random() )"
   ]
  },
  {
   "cell_type": "markdown",
   "metadata": {
    "colab_type": "text",
    "id": "V88SqOuD-9Cq"
   },
   "source": [
    "## Python et les coordonnées\n",
    "Les tuples en python sont des listes non modifiables (on dit aussi \"non mutables\").\n",
    "Un tuple a deux éléments apparaît formellement comme un couple de coordonnées. \n",
    "De plus, via les tuples, un mécanisme particulier au langage python permet des affectations multiples et simultanées.\n",
    "Exemple :"
   ]
  },
  {
   "cell_type": "code",
   "execution_count": 6,
   "metadata": {
    "colab": {
     "autoexec": {
      "startup": false,
      "wait_interval": 0
     },
     "base_uri": "https://localhost:8080/",
     "height": 289
    },
    "colab_type": "code",
    "executionInfo": {
     "elapsed": 561,
     "status": "error",
     "timestamp": 1526894554048,
     "user": {
      "displayName": "Dominique Payant",
      "photoUrl": "https://lh3.googleusercontent.com/a/default-user=s128",
      "userId": "106581837731410294284"
     },
     "user_tz": -120
    },
    "id": "bWDPoYsbmZBg",
    "outputId": "b2b1a944-2e33-4c19-986c-2211f780aee8"
   },
   "outputs": [
    {
     "name": "stdout",
     "output_type": "stream",
     "text": [
      "x =  2  ; y =  3\n",
      "coord vaut :  (1, 4)\n",
      "coord[0] :  1\n",
      "coord[0] :  4\n"
     ]
    },
    {
     "ename": "TypeError",
     "evalue": "ignored",
     "output_type": "error",
     "traceback": [
      "\u001b[0;31m---------------------------------------------------------------------------\u001b[0m",
      "\u001b[0;31mTypeError\u001b[0m                                 Traceback (most recent call last)",
      "\u001b[0;32m<ipython-input-6-3a7a4626b98d>\u001b[0m in \u001b[0;36m<module>\u001b[0;34m()\u001b[0m\n\u001b[1;32m      7\u001b[0m \u001b[0mprint\u001b[0m\u001b[0;34m(\u001b[0m\u001b[0;34m\"coord[0] : \"\u001b[0m\u001b[0;34m,\u001b[0m\u001b[0mcoord\u001b[0m\u001b[0;34m[\u001b[0m\u001b[0;36m1\u001b[0m\u001b[0;34m]\u001b[0m\u001b[0;34m)\u001b[0m\u001b[0;34m\u001b[0m\u001b[0m\n\u001b[1;32m      8\u001b[0m \u001b[0;34m\u001b[0m\u001b[0m\n\u001b[0;32m----> 9\u001b[0;31m \u001b[0mcoord\u001b[0m\u001b[0;34m[\u001b[0m\u001b[0;36m0\u001b[0m\u001b[0;34m]\u001b[0m \u001b[0;34m=\u001b[0m \u001b[0;36m9\u001b[0m \u001b[0;31m# erreur car coord est non-modifiable\u001b[0m\u001b[0;34m\u001b[0m\u001b[0m\n\u001b[0m",
      "\u001b[0;31mTypeError\u001b[0m: 'tuple' object does not support item assignment"
     ]
    }
   ],
   "source": [
    "(x, y) = (2, 3) # affectation simultanée des variables x et y\n",
    "print(\"x = \",x, \" ; y = \",y)\n",
    "\n",
    "coord = (1, 4)\n",
    "print(\"coord vaut : \",coord)\n",
    "print(\"coord[0] : \",coord[0])\n",
    "print(\"coord[0] : \",coord[1])\n",
    "\n",
    "coord[0] = 9 # erreur car coord est non-modifiable"
   ]
  },
  {
   "cell_type": "markdown",
   "metadata": {
    "colab_type": "text",
    "id": "31QdFodkAoKV"
   },
   "source": [
    "On ne peut pas modifier une des coordonnées du tuple. Mais par contre, on reste libre de changer ce que désigne la référence `coord`."
   ]
  },
  {
   "cell_type": "code",
   "execution_count": 7,
   "metadata": {
    "colab": {
     "autoexec": {
      "startup": false,
      "wait_interval": 0
     },
     "base_uri": "https://localhost:8080/",
     "height": 92
    },
    "colab_type": "code",
    "executionInfo": {
     "elapsed": 527,
     "status": "ok",
     "timestamp": 1526894776288,
     "user": {
      "displayName": "Dominique Payant",
      "photoUrl": "https://lh3.googleusercontent.com/a/default-user=s128",
      "userId": "106581837731410294284"
     },
     "user_tz": -120
    },
    "id": "Zjd-wNgxA-lC",
    "outputId": "30bcab8d-3a47-4c44-d26a-c332b05ddcf5"
   },
   "outputs": [
    {
     "name": "stdout",
     "output_type": "stream",
     "text": [
      "(2, 3)\n",
      "coucou\n",
      "(4, 5)\n",
      "(7, 8)\n"
     ]
    }
   ],
   "source": [
    "coord = (2,3) # désigne un tuple\n",
    "print(coord)\n",
    "coord = \"coucou\" # désigne un texte\n",
    "print(coord)\n",
    "coord = (4,5)    # désigne un tuple\n",
    "print(coord)\n",
    "coord = (7, 8)   # encore un nouveau tuple\n",
    "print(coord)"
   ]
  },
  {
   "cell_type": "markdown",
   "metadata": {
    "colab_type": "text",
    "id": "fV90YBtYBXAS"
   },
   "source": [
    "## Exercice\n",
    "\n",
    "Complétez :\n",
    "- la fonction `point()` qui tire au sort les coordonnées d'un point dans le carré unité ;\n",
    "- la fonction `dans_cercle(M)` qui renvoie `True` si un point `M` (identifié à ses coordonnées) est dans le cercle, et `False sinon` ;\n",
    "- la fonction `pi(nbExp)` qui calcule une apporximation du nombre $pi$ sur la base de nbExp points simulés."
   ]
  },
  {
   "cell_type": "code",
   "execution_count": 0,
   "metadata": {
    "colab": {
     "autoexec": {
      "startup": false,
      "wait_interval": 0
     }
    },
    "colab_type": "code",
    "id": "jgzrj9wbDSw9"
   },
   "outputs": [],
   "source": [
    "from random import random\n",
    "\n",
    "def point():\n",
    "  #\n",
    "  return (x, y)\n",
    "\n",
    "def dans_cercle(M):\n",
    "  (x, y) = M   # pour simplifier les manipulations ultérieures\n",
    "  \n",
    "  #\n",
    "  return #\n",
    "\n",
    "def pi(nbExp):\n",
    "  PI = 0\n",
    "  #\n",
    "  # if dans_cercle( point() ) : \n",
    "  #\n",
    "  return PI"
   ]
  },
  {
   "cell_type": "code",
   "execution_count": 0,
   "metadata": {
    "colab": {
     "autoexec": {
      "startup": false,
      "wait_interval": 0
     }
    },
    "colab_type": "code",
    "id": "cbyL1b6Rkkx2"
   },
   "outputs": [],
   "source": []
  },
  {
   "cell_type": "markdown",
   "metadata": {
    "colab_type": "text",
    "id": "iO8Q47t6EC2J"
   },
   "source": [
    "# Le modèle proie-prédateur\n",
    "\n",
    "De nombreuses ressources documentent cette modélisation. \n",
    "\n",
    "La situation simplifiée traitée ici s'inspire d'un exrtait de brochure de l'APMEP ( [http://www.apmep.fr/Proies-et-predateurs](https://www.apmep.fr/Proies-et-predateurs) )\n",
    "\n",
    "## Le modèle :\n",
    "On note respectivement $x_n$ et $y_n$ les effectifs de proies et de prédateurs pour l'année $n$.\n",
    "On fait les hypothèses suivantes :\n",
    "- le taux d'accroissement des proies résulte d'un taux de natalité constant $a$ et d'un taux de mortalité $b y_n$ proportionnel au nombre de prédateurs ;\n",
    "- le taux d'accroissement des prédateurs résulte d'un taux de natalité $c x_n$ proportionnel au nombre de proies, et d'un taux de mortalité constant $d$.\n",
    "\n",
    "On obtient les relations :\n",
    "\n",
    "$x_{n+1} = (1+a) x_n - b x_n y_n$\n",
    "\n",
    "$y_{n+1} = (1-d)y_n + c x_n y_n$"
   ]
  },
  {
   "cell_type": "code",
   "execution_count": 0,
   "metadata": {
    "colab": {
     "autoexec": {
      "startup": false,
      "wait_interval": 0
     }
    },
    "colab_type": "code",
    "id": "BCcUOw2MuMMc"
   },
   "outputs": [],
   "source": [
    "# Définition des constantes globales\n",
    "a = 0.09 #tx natalité proies\n",
    "b = 1e-5 #coeff tx mortalité proies\n",
    "c = 5e-6 #coeff tx natalité prédateur\n",
    "d = 0.25 #tx mortalité prédateur\n"
   ]
  },
  {
   "cell_type": "markdown",
   "metadata": {
    "colab_type": "text",
    "id": "bliBD7t5u82i"
   },
   "source": [
    "## Exercice\n",
    "\n",
    "**Corrigez **la fonction `iter` qui prend en argument les deux nombres `x` et `y` de la modélisation (en fait $x_n$ et $y_n$) et qui calcule l'itération, c'est-à-dire les termes suivants ($x_{n+1}$ et $y_{n+1}$)"
   ]
  },
  {
   "cell_type": "code",
   "execution_count": 0,
   "metadata": {
    "colab": {
     "autoexec": {
      "startup": false,
      "wait_interval": 0
     }
    },
    "colab_type": "code",
    "id": "-8ehLOHgvjMN"
   },
   "outputs": [],
   "source": [
    "def iter(x, y):\n",
    "  # ATTENTION AU PIÈGE !\n",
    "  x = (1+a)*x-b*x*y\n",
    "  y = (1-d)*y+c*x*y  # c'est là qu'il y a un problème !\n",
    "  return (x   , y)"
   ]
  },
  {
   "cell_type": "code",
   "execution_count": 0,
   "metadata": {
    "colab": {
     "autoexec": {
      "startup": false,
      "wait_interval": 0
     }
    },
    "colab_type": "code",
    "id": "0i75gy0Mwher"
   },
   "outputs": [],
   "source": []
  },
  {
   "cell_type": "markdown",
   "metadata": {
    "colab_type": "text",
    "id": "c7ONBigqzsCr"
   },
   "source": [
    "## Exercice\n",
    "\n",
    "Complétez la fonction `liste_populations` qui prend en argument :\n",
    "- `x0` : la population initiale de proies\n",
    "- `y0` : population initiale de prédateurs\n",
    "- `n` : le nombre d'années à itérer pour l'étude\n",
    "\n",
    "et qui renvoie deux listes :\n",
    "- `lx` : la liste des valeurs de la suite $x_n$ (population des poies l'année $n$)\n",
    "- `ly` : la liste des valeurs de la suite $y_n$(population des prédateurs l'année $n$)\n",
    "\n",
    "> Et puisque vous avez bien travaillé, vous avez droit à deux images !\n",
    "> ce code donne un exemple de sortie graphique grâce au module `mathplotlib`"
   ]
  },
  {
   "cell_type": "code",
   "execution_count": 0,
   "metadata": {
    "colab": {
     "autoexec": {
      "startup": false,
      "wait_interval": 0
     }
    },
    "colab_type": "code",
    "id": "Yk5GYM4aw-ma"
   },
   "outputs": [],
   "source": [
    "import matplotlib.pyplot as plt\n",
    "\n",
    "def liste_populations(x0, y0, n):\n",
    "  #\n",
    "  #\n",
    "  return lx, ly\n",
    "\n",
    "def evolution(x0, y0, n):\n",
    "  \"\"\"graphique chronologiue des populations\"\"\"\n",
    "  lx, ly = liste_populations(x0, y0, n)\n",
    "  plt.plot(ly)\n",
    "  plt.plot(lx)\n",
    "  plt.show()\n",
    "  \n",
    "def proie_preda(x0, y0, n):\n",
    "  \"\"\"population des predateurs en fonction (?) de la population des proies\"\"\"\n",
    "  lx, ly = liste_populations(x0, y0, n)\n",
    "  plt.plot(lx,ly,\"r.\")\n",
    "  plt.show()\n",
    "    \n",
    "\n",
    "evolution(50000,10000,100)\n",
    "proie_preda(50000,10000,100)\n",
    "    "
   ]
  }
 ],
 "metadata": {
  "colab": {
   "default_view": {},
   "name": "01_Simulations_v0.ipynb",
   "provenance": [],
   "version": "0.3.2",
   "views": {}
  },
  "kernelspec": {
   "display_name": "Python 3",
   "language": "python",
   "name": "python3"
  },
  "language_info": {
   "codemirror_mode": {
    "name": "ipython",
    "version": 3
   },
   "file_extension": ".py",
   "mimetype": "text/x-python",
   "name": "python",
   "nbconvert_exporter": "python",
   "pygments_lexer": "ipython3",
   "version": "3.6.4"
  }
 },
 "nbformat": 4,
 "nbformat_minor": 1
}
