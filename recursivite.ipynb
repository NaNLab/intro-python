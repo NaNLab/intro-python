{
 "cells": [
  {
   "cell_type": "markdown",
   "metadata": {
    "colab_type": "text",
    "id": "kQNaVMF6q6LA"
   },
   "source": [
    "# Récursivité\n",
    "\n",
    "Nous allons voir le principe de récursivité qui a - comme son nom l'indique - à voir avec la récurrence.\n",
    "\n",
    "### Exemple 1 :\n",
    "\n",
    "Commençons par un premier exemple : on considère une suite $u$ qui vérifie :\n",
    "$u_0 = 3$ et pour tout $n \\in \\mathbb{N}^{\\ast}$, $u_n = 2 * u_{n-1} - 1$.\n",
    "Comment calculer $u_{7}$ ?\n",
    "\n",
    "Pour calculer $u_{7}$ il nous faut $u_6$ mais on n'a pas $u_6$ ... flûte, coincé ...\n",
    "\n",
    "Mais pour avoir $u_6$ il nous faut $u_5$, et pour avoir $u_5$ il faut $u_4$ et ... pour avoir $u_1$ il faut $u_0$.\n",
    "\n",
    "Et là, la lumière s'allume : on a $u_0$ à disposition : on va donc calculer $u_1$, puis $u_2$ puis $u_3$ puis ... $u_{7}$ !\n",
    "\n",
    "Autrement dit le raisonnement / la méthode de calcul aura été un aller-retour matérialisé ci-dessous : d'abord un aller avec la flèche rouge (sans calculs) de gauche à droite puis, arrivé à $u_0$, un retour avec la flèche verte (avec calculs numériques).\n",
    "\n",
    "<img src = \"ressources_recursivite/image1.jpg\", width = 400px \\> \n",
    "\n",
    "Mais on peut en fait se contenter de ce trajet :\n",
    "\n",
    "<img src = \"ressources_recursivite/image2.jpg\", width = 400px \\>\n",
    "\n",
    "Ces deux façons de procéder se retrouvent en programmation. La version naïve avec aller-retour correspond à une programmation récursive du calcul de $u_7$. La seconde version correspond à une programmation itérative du calcul de $u_7$. Voyons ce que cela donne :"
   ]
  },
  {
   "cell_type": "code",
   "execution_count": 0,
   "metadata": {
    "colab": {
     "autoexec": {
      "startup": false,
      "wait_interval": 0
     }
    },
    "colab_type": "code",
    "id": "QLEKt6bKq6LE"
   },
   "outputs": [],
   "source": [
    "def calcul_recursif(n):\n",
    "    if n == 0: #si on est tout à gauche le résultat est 3\n",
    "        return 3\n",
    "    else:\n",
    "        return 2*calcul_recursif(n-1)-1 #sinon il faut faire le calcul à partir du terme de gauche\n",
    "\n",
    "\n",
    "def calcul_iteratif(n): #on y est habitué ...\n",
    "    u = 3\n",
    "    for i in range(n):\n",
    "        u = 2 * u - 1\n",
    "    return u\n"
   ]
  },
  {
   "cell_type": "markdown",
   "metadata": {
    "colab_type": "text",
    "id": "stFwa6pAq6LQ"
   },
   "source": [
    "Ici ce qu'il faut bien comprendre c'est que dans la version itérative on ne programme que le trajet retour (ce à quoi nous sommes habitués) alors que dans la version récursive on a l'impression de ne coder que le trajet aller.\n",
    "\n",
    "En fait on ne code effectivement que le trajet aller et python se charge de garder en mémoire une trace de toutes les étapes ($u_7, u_6, u_5$ etc) qu'il faudra effectuer au retour... ce qui lui prend de la mémoire."
   ]
  },
  {
   "cell_type": "markdown",
   "metadata": {
    "colab_type": "text",
    "id": "0Sj10hPtQL4f"
   },
   "source": [
    "### Information experte : la pile des appels ---------------\n",
    "\n",
    "Précisément, les langages de programmation qui permettent la récursivité doivent mettre en place un mécanisme qui duplique la fonction en mémoire.\n",
    "\n",
    "Reprenons en détail les appels de la procédure récursive sur un exemple :\n",
    "\n",
    "> `calcul_recursif(3)` \n",
    "\n",
    "cet appel crée en mémoire une *instance* de la fonction `calcul_recursif`, et la variable locale `n` se voit assigner la valeur 3.\n",
    "\n",
    "Comme `n` n'est pas nul, l'exécution de cette fonction, se réduit à :\n",
    "> `return 2*calcul_recursif(2) - 1` # car `n-1` vaut $3-1 = 2$\n",
    "\n",
    "Python doit d'abord évaluer `calculer_recursif(2)`. Pour cela l'interpréteur crée une nouvelle instance de la fonction et une nouvelle variable locale `n` qui vaut 2.\n",
    "\n",
    "Et etc, jusqu'à l'appel de `calculer_recursif(0)`. À partir de ce moment, tous les apples récursifs de la *pile des appels* vont être *dépilés* pour rendre le calcul effectif :\n",
    "> `calculer_recursif(0)` $\\rightarrow$ 3\n",
    "\n",
    "> `calculer_recursif(1)` $\\rightarrow$ `2*calculer_recursif(0) - 1` = 5\n",
    "\n",
    "> `calculer_recursif(2)` $\\rightarrow$ `2*calculer_recursif(1) - 1` = 9\n",
    "\n",
    "> `calculer_recursif(3)` $\\rightarrow$ `2*calculer_recursif(2) - 1` = 17\n",
    "\n",
    "Dans cet exemple il a fallu créer en mémoire 4 instances de la fonction. À chaque fois qu'une instance est dépilée, la place mémoire est libérée. Mais il se peut que la profondeur de la récursion soit telle qu'elle provoque un dépassement de capacité mémoire pendant le calcul. En python une constante protège la mémoire en limitant la profondeur de recursion maximale (réglable avec la fonction `setrecursionlimit(limit)` du module `sys`).\n",
    "\n",
    "L'application en ligne [pythontutor.com](http://pythontutor.com) propose un mode d'exécution pas à pas qui illustre (donne à voir) les créations des instances et le jeu de pile d'appel. \n",
    "\n",
    "### Fin de l'information experte ---------------"
   ]
  },
  {
   "cell_type": "markdown",
   "metadata": {
    "colab_type": "text",
    "id": "W9cMM_ptq6LS"
   },
   "source": [
    "### Exemple 2 :\n",
    "\n",
    "Pour enfoncer le clou, poursuivons avec un second exemple : la suite de Fibonacci définie par : $u_0=0, u_1=1$ et, pour tout $n \\in \\mathbb{N}, \\ n \\geq 2$, $ \\ \\ \\ u_n = u_{n-2}+u_{n-1}$.\n",
    "\n",
    "Ici on voit bien comment la méthode itérative fonctionne et, essentiellement, pour calculer $u_5$ on aura besoin d'effectuer 4 sommes.\n",
    "\n",
    "En revanche en récursif, pour calculer $u_5$ voici ce que ferait ce grand naïf de python :\n",
    "\n",
    "Pour calculer $u_5$ j'ai besoin de $u_4$ et $u_3$. Commençons par $u_4$.\n",
    "\n",
    "- Pour calculer $u_4$ j'ai besoin de $u_3$ et $u_2$. Commençons par $u_3$.\n",
    "\n",
    "    - Pour calculer $u_3$ j'ai besoin de $u_2$ et $u_1$. Commençons par $u_2$.\n",
    "\n",
    "        - Pour calculer $u_2$ j'ai besoin de $u_1 = 1$ et $u_0 = 0$. Donc $u_2 = 1$. Où en étais-je ? Au calcul de $u_3$ ... maintenant j'ai besoin de $u_1$\n",
    "        - J'ai $u_1 = 1$\n",
    "    - Donc je peux calculer $u_3 = 1 + 1 = 2$. Où en étais-je ? Au calcul de $u_4$ ... maintenant j'ai besoin de $u_2$\n",
    "    - Pour calculer $u_2$ j'ai besoin de ...\n",
    "     \n",
    "etc ... finalement voici tous les calculs qu'effectuerait python :\n",
    "\n",
    "<img src = \"ressources_recursivite/image3.jpg\", width = 400px \\>\n",
    "\n",
    "Donc dans le cas présent, la méthode récursive n'est pas la plus efficace (imaginez l'arbre obtenu pour calculer $u_{50}$ ...). En revanche elle est plus simple à programmer. Comparons :"
   ]
  },
  {
   "cell_type": "code",
   "execution_count": 0,
   "metadata": {
    "colab": {
     "autoexec": {
      "startup": false,
      "wait_interval": 0
     }
    },
    "colab_type": "code",
    "id": "d9g_BoZbq6LU",
    "outputId": "d30006e3-42f3-4072-9c15-75d73843f542"
   },
   "outputs": [
    {
     "data": {
      "text/plain": [
       "(144, 144)"
      ]
     },
     "execution_count": 2,
     "metadata": {
      "tags": []
     },
     "output_type": "execute_result"
    }
   ],
   "source": [
    "def fibo_iteratif(n):\n",
    "    if n == 0:\n",
    "        return 0\n",
    "    elif n == 1:\n",
    "        return 1\n",
    "    else:\n",
    "        u_p = 0 #u_(n-1)\n",
    "        u = 1 #u_n\n",
    "        for i in range(n-1):\n",
    "            u_mem = u_p #on met en mémoire u_(n-1)\n",
    "            u_p = u #on remplace u_(n-1) par u_n\n",
    "            u = u_p + u_mem #on calcule u_(n+1)\n",
    "        return u\n",
    "            \n",
    "\n",
    "\n",
    "def fibo_recursif(n):\n",
    "    if n == 0:\n",
    "        return 0\n",
    "    elif n == 1:\n",
    "        return 1\n",
    "    else:\n",
    "        return fibo_recursif(n-1)+fibo_recursif(n-2)\n",
    "\n",
    "(fibo_iteratif(12), fibo_recursif(12)) # pour comparer les valeurs"
   ]
  },
  {
   "cell_type": "markdown",
   "metadata": {
    "colab_type": "text",
    "id": "JLUC4kclq6Lc"
   },
   "source": [
    "### Conclusion :\n",
    "La programmation en récursif est plus élégante mais peut parfois cacher en arrière plan beaucoup plus de calculs qu'en itératif. Dans ces cas là elle ne semble pas pertinente ...\n",
    "\n",
    "En revanche pour certains types de problèmes algorithmiques (concernant par exemple des parcours de certains types de structures de données - par exemple des arbres) elle est particulièrement \"efficace\". "
   ]
  },
  {
   "cell_type": "markdown",
   "metadata": {
    "colab_type": "text",
    "id": "_PVWuwg2LWzs"
   },
   "source": [
    "# Exercice 1 : factorielle en récursif\n",
    "\n",
    "On souhaite programmer une fonction `factorielle(n)` qui retourne la factorielle de l'entier n passé en paramètre. La programmer en récursif :"
   ]
  },
  {
   "cell_type": "code",
   "execution_count": 0,
   "metadata": {
    "colab": {
     "autoexec": {
      "startup": false,
      "wait_interval": 0
     }
    },
    "colab_type": "code",
    "id": "BvMagx3-LWzw"
   },
   "outputs": [],
   "source": [
    "def factorielle(n):\n",
    "    pass"
   ]
  },
  {
   "cell_type": "markdown",
   "metadata": {},
   "source": [
    "# Exercice 2 (niveau confirmé) : Des listes russes ... aux listes syldaves \n",
    "\n",
    "### Listes russes\n",
    "\n",
    "Par analogie avec une poupée russe, on considère dans cet exercice une « liste russe».\n",
    "Sans chercher à formaliser ce concept, on se donne une liste de départ qui peut :\n",
    "- soit être vide \n",
    "- soit contenir une autre liste qui elle-même peut : \n",
    "    - soit être vide\n",
    "\t- soit contenir une autre liste qui elle-même peut :\n",
    "        - soit être vide\n",
    "\t\t- soit contenir une autre liste qui elle-même peut :\n",
    "            - etc…\n",
    "\n",
    "Bien entendu on suppose que ce processus s’arrête à un moment donné.\n",
    "Autrement dit on suppose que la liste de départ (la *matriona*) a un nombre fini de  « descendantes »  (les *matriochkas*). \n",
    "\n",
    "\n",
    "### Question 1 \n",
    "\n",
    "La fonction `engendrer_liste_russe` fournie ci-dessous renvoie une liste russe qui contient un nombre aléatoire de listes emboîtées les unes dans les autres.\n",
    "\n",
    "Écrire une fonction `compter_liste_russe` programmée en récursif qui, en prenant en argument une liste russe, permet de déterminer combien de listes sont emboîtées les unes dans les autres (dans la liste russe passée en argument).\n",
    "\n",
    "On se posera utilement la question de savoir si on pouvait, ou pas, la programmer raisonnablement en itératif ...\n"
   ]
  },
  {
   "cell_type": "code",
   "execution_count": 6,
   "metadata": {},
   "outputs": [],
   "source": [
    "import random\n",
    "\n",
    "def engendrer_liste_russe():\n",
    "    nb = random.randint(9, 98)\n",
    "    L = []\n",
    "    for i in range(nb):\n",
    "        L = [L]\n",
    "    return L\n",
    "        \n",
    "ma_liste_russe = engendrer_liste_russe()\n",
    "\n",
    "def compter_liste_russe(L):\n",
    "    pass\n",
    "    "
   ]
  },
  {
   "cell_type": "markdown",
   "metadata": {},
   "source": [
    "### Listes syldaves\n",
    "\n",
    "On s'intéresse maintenant aux listes syldaves dont le concept est très proche des listes russes. Sans chercher à formaliser ce concept, on se donne une liste de départ qui peut :\n",
    "- soit être vide \n",
    "- soit contenir *deux* autres listes dont chacune peut, indépendamment de l'autre : \n",
    "    - soit être vide\n",
    "\t- soit contenir *deux* autres listes dont chacune peut, indépendamment de l'autre :\n",
    "        - soit être vide\n",
    "\t\t- soit contenir *deux* autres listes dont chacune peut, indépendamment de l'autre :\n",
    "            - etc…\n",
    "\n",
    "Bien entendu on suppose que ce processus s’arrête à un moment donné.\n",
    "\n",
    "Autrement dit chaque poupée syldave peut désormais contenir 0 ou 2 « enfants »…\n",
    "\n",
    "Autrement dit on modélise ici un **arbre** généalogique (descendance d'un ancêtre) simplifié où les unions (mariages etc.) ne sont pas représentées et où chaque individu ne peut avoir que 0 ou 2 descendants ... cette conceptualisation risque de vous être utile pour l'après-midi ...\n",
    "\n",
    "### Question 2 \n",
    "\n",
    "La fonction `engendrer_liste_syldave` fournie ci-dessous permet de retourner une liste syldave obtenue aléatoirement.\n",
    "\n",
    "Écrire une fonction `compter_listes_syldaves` programmée en récursif qui, en prenant en argument une liste syldave, permet de déterminer combien de listes sont, *in fine*, contenues dans la liste syldave.\n",
    "\n",
    "On se posera utilement la question de savoir si on pouvait, ou pas, la programmer raisonnablement en itératif ..."
   ]
  },
  {
   "cell_type": "code",
   "execution_count": 3,
   "metadata": {},
   "outputs": [],
   "source": [
    "import random\n",
    "\n",
    "def engendrer_liste_syldave(*ottokar):\n",
    "    if len(ottokar)== 2 :\n",
    "        n = ottokar[0]\n",
    "        if n == 0 and ottokar[1]==0:\n",
    "            return []\n",
    "        else:\n",
    "            sceptre1, sceptre2 = min(random.randint(0,3), 1), min(random.randint(0,3), 1)\n",
    "            return [engendrer_liste_syldave(max(sceptre1*(n-1),0), max(ottokar[1]-1, 0)), engendrer_liste_syldave(max(sceptre2*(n-1), 0), max(ottokar[1]-1, 0))]\n",
    "    else :\n",
    "        return engendrer_liste_syldave(random.randint(8, 10), 2)\n",
    "     \n",
    "ma_liste_syldave = engendrer_liste_syldave()\n",
    "\n",
    "\n",
    "def compter_liste_syldave(L):\n",
    "    pass"
   ]
  },
  {
   "cell_type": "markdown",
   "metadata": {
    "colab_type": "text",
    "id": "XA24kwS0LW0K"
   },
   "source": [
    "# Exercice 2 (si niveau débutant) : dichotomie en récursif\n",
    "\n",
    "Supposons maintenant que nous ayons une fonction $f$, croissante sur l'intervalle $[a,b]$ et telle que $f(a)<0<f(b)$. On souhaite chercher le *zéro* de la fonction sur cette intervalle, c'est-à-dire trouver la valeur de $x$ ($x \\in [a,b]$) telle que $f(x)=0$."
   ]
  },
  {
   "cell_type": "markdown",
   "metadata": {
    "colab_type": "text",
    "id": "ckc72PTFLW0j"
   },
   "source": [
    "Ecrire une fonction `find_root(f,a,b,epsilon)` qui attend en paramètre :\n",
    "\n",
    "- une fonction $f$ d'une variable, croissante sur $[a,b]$;\n",
    "- deux réels $a$ et $b$;\n",
    "- un réel $epsilon$.\n",
    "\n",
    "La fonction `find_root` retourne une valeur approchée du zéro de $f$ sur $[a,b]$. Le paramètre $\\epsilon$ (`epsilon`) sert à évaluer la précision du calcul : le zéro est trouvé à $\\epsilon$ près. Par exemple, le calcul s'arrête lorsque $b-a$ devient plus petit que $\\epsilon$ et que l'on a trouvé le zéro de la fonction avec une bonne précision.\n",
    "\n",
    "**Indication:** le signe de $f(x)\\cdot f(y)$ indique si la fonction change de signe entre $x$ et $y$.\n",
    "\n",
    "**Contrainte:** la programmer en récursif !"
   ]
  },
  {
   "cell_type": "code",
   "execution_count": 0,
   "metadata": {
    "colab": {
     "autoexec": {
      "startup": false,
      "wait_interval": 0
     }
    },
    "colab_type": "code",
    "id": "G07BCZJBLW0o"
   },
   "outputs": [],
   "source": [
    "def h(x):\n",
    "    return x*x - 7\n",
    "\n",
    "def find_root(f, a, b, epsilon):\n",
    "    pass"
   ]
  },
  {
   "cell_type": "markdown",
   "metadata": {
    "colab_type": "text",
    "id": "NO31MuNnLWx2"
   },
   "source": [
    "# Quelques mots sur le passage de paramètres\n",
    "\n",
    "Regardons le code suivant :"
   ]
  },
  {
   "cell_type": "code",
   "execution_count": 40,
   "metadata": {
    "colab": {
     "autoexec": {
      "startup": false,
      "wait_interval": 0
     }
    },
    "colab_type": "code",
    "id": "wD1Y2pPzLWx9",
    "outputId": "cf1d2d38-9879-4ce2-e713-a08a015a6e92"
   },
   "outputs": [
    {
     "name": "stdout",
     "output_type": "stream",
     "text": [
      "avant : 2017\n",
      "après : 2017\n"
     ]
    }
   ],
   "source": [
    "annee = 2017\n",
    "def nouvelleannee(an):\n",
    "    an = an + 1\n",
    "\n",
    "print(\"avant :\", annee)\n",
    "nouvelleannee(annee)\n",
    "print(\"après :\", annee)"
   ]
  },
  {
   "cell_type": "code",
   "execution_count": 0,
   "metadata": {
    "colab": {
     "autoexec": {
      "startup": false,
      "wait_interval": 0
     }
    },
    "colab_type": "code",
    "id": "6AU06D53LWyi",
    "outputId": "4c1fe9e1-0ea1-4953-9fe8-13ee3494798e"
   },
   "outputs": [
    {
     "name": "stdout",
     "output_type": "stream",
     "text": [
      "avant : [2, 0, 1, 7]\n",
      "après : [2, 0, 1, 8]\n"
     ]
    }
   ],
   "source": [
    "uneListe = [2,0,1,7]\n",
    "def nouvelleannee(liste):\n",
    "    liste[3] = liste[3]+1\n",
    "\n",
    "print(\"avant :\", uneListe)\n",
    "nouvelleannee(uneListe)\n",
    "print(\"après :\", uneListe)"
   ]
  },
  {
   "cell_type": "markdown",
   "metadata": {
    "colab_type": "text",
    "id": "HGdRikjfLWy5"
   },
   "source": [
    "Dans cette seconde fonction, la liste est passée par *référence* et il est possible de la modifier : la fonction a un effet de bord.\n",
    "\n",
    "Nous ne donnerons pas plus de détails ici, mais soyez vigilant lorsque vous tentez de modifier directement la valeur des paramètres et retenez que dans certains cas les paramètres peuvent être modifiés dans la fonction (cas des éléments des listes) alors que bien souvent ils ne peuvent pas."
   ]
  }
 ],
 "metadata": {
  "colab": {
   "default_view": {},
   "name": "01_Recursivité et recherche du zéro.ipynb",
   "provenance": [],
   "version": "0.3.2",
   "views": {}
  },
  "kernelspec": {
   "display_name": "Python 3",
   "language": "python",
   "name": "python3"
  },
  "language_info": {
   "codemirror_mode": {
    "name": "ipython",
    "version": 3
   },
   "file_extension": ".py",
   "mimetype": "text/x-python",
   "name": "python",
   "nbconvert_exporter": "python",
   "pygments_lexer": "ipython3",
   "version": "3.6.4"
  }
 },
 "nbformat": 4,
 "nbformat_minor": 1
}
